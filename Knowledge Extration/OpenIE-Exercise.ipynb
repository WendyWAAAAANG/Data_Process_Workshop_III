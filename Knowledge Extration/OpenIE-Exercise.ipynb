{
 "cells": [
  {
   "attachments": {},
   "cell_type": "markdown",
   "metadata": {},
   "source": [
    "## Open Information Extraction\n",
    "Open information extraction (open IE) refers to the extraction of relation tuples, typically binary relations, from plain text, such as (Mark Zuckerberg; founded; Facebook). The central difference from other information extraction is that the schema for these relations does not need to be specified in advance; typically the relation name is just the text linking two arguments.\n",
    "- StanfordOpenIE (https://nlp.stanford.edu/software/openie.html) StanfordOpenIE is part of StanfordCoreNLP, which is built on top of PyTorch 1.0.0. \n",
    " - Therefore, first install pytorch (https://pytorch.org/get-started/locally/), select your  os, package, language, cuda , then use the   command to install.\n",
    "For example:\n",
    " - ``pip install torch==1.11.0+cpu torchvision==0.12.0+cpu -f https://download.pytorch.org/whl/torch_stable.html``\n",
    " \n",
    " or simply \n",
    " - ``pip install torch==1.11.0+cpu torchvision==0.12.0+cpu -i https://pypi.tuna.tsinghua.edu.cn/simple``\n",
    " \n",
    " - Install StanfordOpenIE using ``pip install stanford-openie`` (https://pypi.org/project/stanford-openie/)\n",
    " - Install Java SE Development Kit 8 (https://www.oracle.com/technetwork/java/javase/downloads/jdk8-downloads-2133151.html/)\n",
    " - Install graphviz : ``conda install python-graphviz``\n",
    " - Unzip the stanford-corenlp-full-2018-10-05.zip to the  directory ( C:\\Users\\youraccount\\\\.stanfordnlp_resources)"
   ]
  },
  {
   "cell_type": "code",
   "execution_count": 1,
   "metadata": {},
   "outputs": [],
   "source": [
    "import nltk\n",
    "from nltk import pos_tag, word_tokenize, ne_chunk, Tree\n",
    "from openie import StanfordOpenIE\n",
    "from graphviz import Digraph"
   ]
  },
  {
   "cell_type": "markdown",
   "metadata": {},
   "source": [
    "### Triple Extraction from text using ``StanfordOpenIE``"
   ]
  },
  {
   "cell_type": "code",
   "execution_count": 2,
   "metadata": {},
   "outputs": [
    {
     "name": "stdout",
     "output_type": "stream",
     "text": [
      "Text: Barack Obama was the 44th president of the United States.\n",
      "Starting server with command: java -Xmx8G -cp /Users/wendywang/.stanfordnlp_resources/stanford-corenlp-4.1.0/* edu.stanford.nlp.pipeline.StanfordCoreNLPServer -port 9000 -timeout 60000 -threads 5 -maxCharLength 100000 -quiet True -serverProperties corenlp_server-2177acbef9334eab.props -preload openie\n",
      "|- {'subject': 'Barack Obama', 'relation': 'was 44th president of', 'object': 'United States'}\n",
      "|- {'subject': 'Barack Obama', 'relation': 'was president of', 'object': 'United States'}\n",
      "|- {'subject': 'Barack Obama', 'relation': 'was', 'object': 'president'}\n",
      "|- {'subject': 'Barack Obama', 'relation': 'was', 'object': '44th president'}\n"
     ]
    }
   ],
   "source": [
    "# Example code for using StanfordOpenIE in python\n",
    "from openie import StanfordOpenIE\n",
    "\n",
    "with StanfordOpenIE() as client:\n",
    "    text = 'Barack Obama was the 44th president of the United States'\n",
    "    print('Text: %s.' % text)\n",
    "    for triple in client.annotate(text):\n",
    "        print('|-', triple)"
   ]
  },
  {
   "attachments": {},
   "cell_type": "markdown",
   "metadata": {},
   "source": [
    "For each sentence, StanfordOpenIE will return several triples with high confidence scores. To further refine the results, we can perform filtering by some constraints:\n",
    "- The subject and object must be named entity from some predfined types\n",
    "- The relation must be verb or verb phrases (chunk rule)\n",
    "\n",
    "Come up with your own refinement strategy to get a better result."
   ]
  },
  {
   "cell_type": "code",
   "execution_count": 3,
   "metadata": {
    "scrolled": true
   },
   "outputs": [
    {
     "name": "stdout",
     "output_type": "stream",
     "text": [
      "Extracted Triples: [['Barack Obama', 'was 44th president of', 'United States'], ['Barack Obama', 'was 44th president of', 'United States'], ['Barack Obama', 'was president of', 'United States'], ['Barack Obama', 'was president of', 'United States'], ['Barack Obama', 'was', 'president'], ['Barack Obama', 'was', '44th president'], ['Trinity United Church', 'is in', 'Chicago'], ['Trinity United Church', 'is in', 'Chicago'], ['Barack Obama', 'married', 'Michelle Robinson'], ['Barack Obama', 'married', 'Michelle Robinson'], ['Barack Obama', 'married Michelle Robinson at', 'Trinity United Church'], ['Barack Obama', 'married Michelle Robinson at', 'Trinity United Church'], ['Barack Obama', 'married Michelle Robinson at', 'Trinity United Church in Chicago'], ['Barack Obama', 'married Michelle Robinson On', 'October 3 1992']]\n"
     ]
    }
   ],
   "source": [
    "def get_labeled_chunks(text):\n",
    "    # your implementation\n",
    "    chunks = ne_chunk(pos_tag(word_tokenize(text)), binary = False)\n",
    "    label_entities = {}\n",
    "    for i in chunks:\n",
    "        if type(i) == Tree:\n",
    "            np = \" \".join(a[0] for a in i)\n",
    "            label_entities[np] = i.label()\n",
    "    return label_entities\n",
    "\n",
    "def extract_triple(text):\n",
    "    # your implementation\n",
    "    triples = []\n",
    "    labeled_chunks = list(get_labeled_chunks(text).keys())\n",
    "    for triple in client.annotate(text):\n",
    "        # to check whether chunks and openie's entity are similar.\n",
    "        for i in triple.values():\n",
    "            if i in labeled_chunks:\n",
    "                # append them to a list of items.\n",
    "                triples.append(list(triple.values()))\n",
    "    return triples\n",
    "\n",
    "tr = extract_triple(\"\"\" Barack Obama was the 44th president of the United States, and the first African American to serve in the office.\n",
    "          On October 3, 1992,  Barack Obama married  Michelle Robinson at Trinity United Church in Chicago. \"\"\")\n",
    "print(\"Extracted Triples:\", tr)"
   ]
  },
  {
   "cell_type": "markdown",
   "metadata": {},
   "source": [
    "### Construct the KB from Triples\n",
    "Given the knowledge triples, we need to index all the entities and relations, i.e.,get the entity set and relation set, and represent each triple using entity id and relation id."
   ]
  },
  {
   "cell_type": "code",
   "execution_count": 4,
   "metadata": {
    "scrolled": true
   },
   "outputs": [
    {
     "name": "stdout",
     "output_type": "stream",
     "text": [
      "Entities: {0: 'Barack Obama', 1: 'United States', 2: 'president', 3: '44th president', 4: 'Trinity United Church', 5: 'Chicago', 6: 'Michelle Robinson', 7: 'Trinity United Church in Chicago', 8: 'October 3 1992'} \n",
      "Relations: {0: 'was 44th president of', 1: 'was president of', 2: 'was', 3: 'is in', 4: 'married', 5: 'married Michelle Robinson at', 6: 'married Michelle Robinson On'} \n",
      "Triples: [[0, 0, 1], [0, 0, 1], [0, 1, 1], [0, 1, 1], [0, 2, 2], [0, 2, 3], [4, 3, 5], [4, 3, 5], [0, 4, 6], [0, 4, 6], [0, 5, 4], [0, 5, 4], [0, 5, 7], [0, 6, 8]]\n"
     ]
    }
   ],
   "source": [
    "def KB(triples):\n",
    "    # your implementation\n",
    "    # kb_dict = {'Entities': {}, 'Relations': {}, 'Triples': []}\n",
    "    entity_dict = {}\n",
    "    relation_dict = {}\n",
    "    triple_list = []\n",
    "    entity_counter = 0\n",
    "    relation_counter = 0\n",
    "    for item in triples:\n",
    "        # if item[0] not in entity_dict['Entities'].values():\n",
    "        #     entity_dict['Entities'][entity_counter] = item[0]\n",
    "        #     entity_counter += 1\n",
    "        if item[0] not in entity_dict.values():\n",
    "            entity_dict[entity_counter] = item[0]\n",
    "            entity_counter += 1\n",
    "        if item[2] not in entity_dict.values():\n",
    "            entity_dict[entity_counter] = item[2]\n",
    "            entity_counter += 1\n",
    "        if item[1] not in relation_dict.values():\n",
    "            relation_dict[relation_counter] = item[1]\n",
    "            relation_counter += 1\n",
    "    # for e in triples['subject']:\n",
    "    #     a = str(entity_dict.keys())[list(entity_dict.values()).index(1)]\n",
    "    #     triple_list.append([a, b, c])   \n",
    "    for triple in triples:\n",
    "        # a = [i[0] for i in entity_item if i[0][1] in str(triple[0].values())]\n",
    "        i = []\n",
    "        for (k1, v1) in list(entity_dict.items()):\n",
    "            if v1 == triple[0]:\n",
    "                i.append(k1)\n",
    "                for (k2, v2) in list((relation_dict.items())):\n",
    "                    if v2 == triple[1]:\n",
    "                        i.append(k2)\n",
    "                for (k3, v3) in list((entity_dict.items())):\n",
    "                    if v3 == triple[2]:\n",
    "                        i.append(k3)\n",
    "        triple_list.append(i)\n",
    "    return [entity_dict, relation_dict, triple_list]\n",
    "\n",
    "kb = KB(tr)\n",
    "print(\"Entities:\", kb[0], \"\\nRelations:\",kb[1], \"\\nTriples:\",kb[2])"
   ]
  },
  {
   "cell_type": "markdown",
   "metadata": {},
   "source": [
    "### Visualize the KB using ``graphviz``\n",
    "- To render the graph, the dependency is a working installation of ``Graphviz`` (https://www.graphviz.org/download/).\n",
    "- After installing Graphviz, make sure that its ``bin/`` subdirectory containing the layout commands for rendering graph descriptions (dot, circo, neato, etc.) is on your systems’ path: On the command-line, ``dot -V`` should print the version of your Graphiz installation.\n",
    "- Refer to https://graphviz.readthedocs.io/en/stable/manual.html for the user guid of graphviz"
   ]
  },
  {
   "cell_type": "code",
   "execution_count": 5,
   "metadata": {
    "scrolled": true
   },
   "outputs": [
    {
     "name": "stdout",
     "output_type": "stream",
     "text": [
      "// The Round Table\n",
      "digraph \"round-table\" {\n",
      "\t0 [label=\"Barack Obama\"]\n",
      "\t1 [label=\"United States\"]\n",
      "\t0 -> 1 [label=\"was 44th president of\"]\n",
      "\t0 [label=\"Barack Obama\"]\n",
      "\t1 [label=\"United States\"]\n",
      "\t0 -> 1 [label=\"was 44th president of\"]\n",
      "\t0 [label=\"Barack Obama\"]\n",
      "\t1 [label=\"United States\"]\n",
      "\t0 -> 1 [label=\"was president of\"]\n",
      "\t0 [label=\"Barack Obama\"]\n",
      "\t1 [label=\"United States\"]\n",
      "\t0 -> 1 [label=\"was president of\"]\n",
      "\t0 [label=\"Barack Obama\"]\n",
      "\t2 [label=president]\n",
      "\t0 -> 2 [label=was]\n",
      "\t0 [label=\"Barack Obama\"]\n",
      "\t3 [label=\"44th president\"]\n",
      "\t0 -> 3 [label=was]\n",
      "\t4 [label=\"Trinity United Church\"]\n",
      "\t5 [label=Chicago]\n",
      "\t4 -> 5 [label=\"is in\"]\n",
      "\t4 [label=\"Trinity United Church\"]\n",
      "\t5 [label=Chicago]\n",
      "\t4 -> 5 [label=\"is in\"]\n",
      "\t0 [label=\"Barack Obama\"]\n",
      "\t6 [label=\"Michelle Robinson\"]\n",
      "\t0 -> 6 [label=married]\n",
      "\t0 [label=\"Barack Obama\"]\n",
      "\t6 [label=\"Michelle Robinson\"]\n",
      "\t0 -> 6 [label=married]\n",
      "\t0 [label=\"Barack Obama\"]\n",
      "\t4 [label=\"Trinity United Church\"]\n",
      "\t0 -> 4 [label=\"married Michelle Robinson at\"]\n",
      "\t0 [label=\"Barack Obama\"]\n",
      "\t4 [label=\"Trinity United Church\"]\n",
      "\t0 -> 4 [label=\"married Michelle Robinson at\"]\n",
      "\t0 [label=\"Barack Obama\"]\n",
      "\t7 [label=\"Trinity United Church in Chicago\"]\n",
      "\t0 -> 7 [label=\"married Michelle Robinson at\"]\n",
      "\t0 [label=\"Barack Obama\"]\n",
      "\t8 [label=\"October 3 1992\"]\n",
      "\t0 -> 8 [label=\"married Michelle Robinson On\"]\n",
      "}\n",
      "\n"
     ]
    }
   ],
   "source": [
    "import graphviz\n",
    "\n",
    "def visualizeKB(kb_input):\n",
    "    # your implementation\n",
    "    dot = graphviz.Digraph('round-table', comment='The Round Table')\n",
    "    # help(dot.edge)\n",
    "    for i in kb_input[2]:\n",
    "        # fetch info from kb_input, according to dict it returns.\n",
    "        sub = kb_input[0][i[0]]\n",
    "        sub_index = str(i[0])\n",
    "        obj = kb_input[0][i[2]]\n",
    "        obj_index = str(i[2])\n",
    "        relation_label = kb_input[1][i[1]]\n",
    "        # construct the node of the graph,\n",
    "        # start from subject and end with object.\n",
    "        dot.node(sub_index, sub)\n",
    "        dot.node(obj_index, obj)\n",
    "        # construct the edge of the graph, assign the relation on it.\n",
    "        dot.edge(sub_index, obj_index, label = relation_label)\n",
    "    return dot\n",
    "dot = visualizeKB(kb)\n",
    "print(dot.source)"
   ]
  },
  {
   "cell_type": "code",
   "execution_count": 6,
   "metadata": {},
   "outputs": [
    {
     "data": {
      "image/svg+xml": "<?xml version=\"1.0\" encoding=\"UTF-8\" standalone=\"no\"?>\n<!DOCTYPE svg PUBLIC \"-//W3C//DTD SVG 1.1//EN\"\n \"http://www.w3.org/Graphics/SVG/1.1/DTD/svg11.dtd\">\n<!-- Generated by graphviz version 2.47.1 (0)\n -->\n<!-- Title: round&#45;table Pages: 1 -->\n<svg width=\"1529pt\" height=\"218pt\"\n viewBox=\"0.00 0.00 1529.37 218.00\" xmlns=\"http://www.w3.org/2000/svg\" xmlns:xlink=\"http://www.w3.org/1999/xlink\">\n<g id=\"graph0\" class=\"graph\" transform=\"scale(1 1) rotate(0) translate(4 214)\">\n<title>round&#45;table</title>\n<polygon fill=\"white\" stroke=\"transparent\" points=\"-4,4 -4,-214 1525.37,-214 1525.37,4 -4,4\"/>\n<!-- 0 -->\n<g id=\"node1\" class=\"node\">\n<title>0</title>\n<ellipse fill=\"none\" stroke=\"black\" cx=\"587.37\" cy=\"-192\" rx=\"64.99\" ry=\"18\"/>\n<text text-anchor=\"middle\" x=\"587.37\" y=\"-188.3\" font-family=\"Times,serif\" font-size=\"14.00\">Barack Obama</text>\n</g>\n<!-- 1 -->\n<g id=\"node2\" class=\"node\">\n<title>1</title>\n<ellipse fill=\"none\" stroke=\"black\" cx=\"218.37\" cy=\"-105\" rx=\"59.59\" ry=\"18\"/>\n<text text-anchor=\"middle\" x=\"218.37\" y=\"-101.3\" font-family=\"Times,serif\" font-size=\"14.00\">United States</text>\n</g>\n<!-- 0&#45;&gt;1 -->\n<g id=\"edge1\" class=\"edge\">\n<title>0&#45;&gt;1</title>\n<path fill=\"none\" stroke=\"black\" d=\"M523,-189.48C374.83,-185.68 20.96,-174.68 3.37,-156 -1.21,-151.15 -0.95,-146.08 3.37,-141 21.84,-119.27 93.21,-111 148.71,-107.87\"/>\n<polygon fill=\"black\" stroke=\"black\" points=\"149.07,-111.35 158.87,-107.34 148.7,-104.36 149.07,-111.35\"/>\n<text text-anchor=\"middle\" x=\"63.87\" y=\"-144.8\" font-family=\"Times,serif\" font-size=\"14.00\">was 44th president of</text>\n</g>\n<!-- 0&#45;&gt;1 -->\n<g id=\"edge2\" class=\"edge\">\n<title>0&#45;&gt;1</title>\n<path fill=\"none\" stroke=\"black\" d=\"M522.39,-190.59C406.12,-189.17 172.26,-182.95 147.37,-156 135.18,-142.81 149.71,-131.06 168.73,-122.28\"/>\n<polygon fill=\"black\" stroke=\"black\" points=\"170.18,-125.47 178.02,-118.33 167.45,-119.02 170.18,-125.47\"/>\n<text text-anchor=\"middle\" x=\"207.87\" y=\"-144.8\" font-family=\"Times,serif\" font-size=\"14.00\">was 44th president of</text>\n</g>\n<!-- 0&#45;&gt;1 -->\n<g id=\"edge3\" class=\"edge\">\n<title>0&#45;&gt;1</title>\n<path fill=\"none\" stroke=\"black\" d=\"M524.51,-187.11C450.6,-181.91 332.73,-171.53 291.37,-156 288.9,-155.08 268.16,-140.82 249.42,-127.76\"/>\n<polygon fill=\"black\" stroke=\"black\" points=\"251.22,-124.75 241.02,-121.9 247.22,-130.5 251.22,-124.75\"/>\n<text text-anchor=\"middle\" x=\"337.37\" y=\"-144.8\" font-family=\"Times,serif\" font-size=\"14.00\">was president of</text>\n</g>\n<!-- 0&#45;&gt;1 -->\n<g id=\"edge4\" class=\"edge\">\n<title>0&#45;&gt;1</title>\n<path fill=\"none\" stroke=\"black\" d=\"M530.33,-183.16C496.14,-177.55 452.11,-168.73 414.37,-156 399.86,-151.11 397.85,-145.96 383.37,-141 350.24,-129.66 312.07,-121.28 280.79,-115.56\"/>\n<polygon fill=\"black\" stroke=\"black\" points=\"281.35,-112.11 270.89,-113.8 280.12,-119 281.35,-112.11\"/>\n<text text-anchor=\"middle\" x=\"460.37\" y=\"-144.8\" font-family=\"Times,serif\" font-size=\"14.00\">was president of</text>\n</g>\n<!-- 2 -->\n<g id=\"node3\" class=\"node\">\n<title>2</title>\n<ellipse fill=\"none\" stroke=\"black\" cx=\"448.37\" cy=\"-105\" rx=\"44.39\" ry=\"18\"/>\n<text text-anchor=\"middle\" x=\"448.37\" y=\"-101.3\" font-family=\"Times,serif\" font-size=\"14.00\">president</text>\n</g>\n<!-- 0&#45;&gt;2 -->\n<g id=\"edge5\" class=\"edge\">\n<title>0&#45;&gt;2</title>\n<path fill=\"none\" stroke=\"black\" d=\"M561.87,-175.41C538.98,-161.41 505.26,-140.79 480.52,-125.66\"/>\n<polygon fill=\"black\" stroke=\"black\" points=\"482.2,-122.59 471.85,-120.36 478.55,-128.56 482.2,-122.59\"/>\n<text text-anchor=\"middle\" x=\"537.37\" y=\"-144.8\" font-family=\"Times,serif\" font-size=\"14.00\">was</text>\n</g>\n<!-- 3 -->\n<g id=\"node4\" class=\"node\">\n<title>3</title>\n<ellipse fill=\"none\" stroke=\"black\" cx=\"573.37\" cy=\"-105\" rx=\"62.29\" ry=\"18\"/>\n<text text-anchor=\"middle\" x=\"573.37\" y=\"-101.3\" font-family=\"Times,serif\" font-size=\"14.00\">44th president</text>\n</g>\n<!-- 0&#45;&gt;3 -->\n<g id=\"edge6\" class=\"edge\">\n<title>0&#45;&gt;3</title>\n<path fill=\"none\" stroke=\"black\" d=\"M574.69,-174.05C571.31,-168.57 568.11,-162.28 566.37,-156 564.36,-148.77 564.48,-140.78 565.53,-133.35\"/>\n<polygon fill=\"black\" stroke=\"black\" points=\"569,-133.84 567.5,-123.35 562.13,-132.48 569,-133.84\"/>\n<text text-anchor=\"middle\" x=\"577.37\" y=\"-144.8\" font-family=\"Times,serif\" font-size=\"14.00\">was</text>\n</g>\n<!-- 4 -->\n<g id=\"node5\" class=\"node\">\n<title>4</title>\n<ellipse fill=\"none\" stroke=\"black\" cx=\"777.37\" cy=\"-105\" rx=\"92.08\" ry=\"18\"/>\n<text text-anchor=\"middle\" x=\"777.37\" y=\"-101.3\" font-family=\"Times,serif\" font-size=\"14.00\">Trinity United Church</text>\n</g>\n<!-- 0&#45;&gt;4 -->\n<g id=\"edge11\" class=\"edge\">\n<title>0&#45;&gt;4</title>\n<path fill=\"none\" stroke=\"black\" d=\"M591.45,-173.67C594.94,-162.69 601.06,-149.09 611.37,-141 624.39,-130.78 657.98,-122.79 691.56,-117.03\"/>\n<polygon fill=\"black\" stroke=\"black\" points=\"692.19,-120.48 701.49,-115.4 691.05,-113.57 692.19,-120.48\"/>\n<text text-anchor=\"middle\" x=\"695.37\" y=\"-144.8\" font-family=\"Times,serif\" font-size=\"14.00\">married Michelle Robinson at</text>\n</g>\n<!-- 0&#45;&gt;4 -->\n<g id=\"edge12\" class=\"edge\">\n<title>0&#45;&gt;4</title>\n<path fill=\"none\" stroke=\"black\" d=\"M650.98,-187.97C700.39,-184.12 763.14,-175.45 779.37,-156 784.61,-149.71 785.72,-141.28 785.03,-133.14\"/>\n<polygon fill=\"black\" stroke=\"black\" points=\"788.47,-132.44 783.38,-123.15 781.56,-133.59 788.47,-132.44\"/>\n<text text-anchor=\"middle\" x=\"869.37\" y=\"-144.8\" font-family=\"Times,serif\" font-size=\"14.00\">married Michelle Robinson at</text>\n</g>\n<!-- 6 -->\n<g id=\"node7\" class=\"node\">\n<title>6</title>\n<ellipse fill=\"none\" stroke=\"black\" cx=\"983.37\" cy=\"-105\" rx=\"79.89\" ry=\"18\"/>\n<text text-anchor=\"middle\" x=\"983.37\" y=\"-101.3\" font-family=\"Times,serif\" font-size=\"14.00\">Michelle Robinson</text>\n</g>\n<!-- 0&#45;&gt;6 -->\n<g id=\"edge9\" class=\"edge\">\n<title>0&#45;&gt;6</title>\n<path fill=\"none\" stroke=\"black\" d=\"M651.25,-188.26C750.41,-183.53 932.61,-172.67 957.37,-156 965.59,-150.46 971.38,-141.47 975.37,-132.63\"/>\n<polygon fill=\"black\" stroke=\"black\" points=\"978.65,-133.86 979.02,-123.27 972.13,-131.31 978.65,-133.86\"/>\n<text text-anchor=\"middle\" x=\"993.37\" y=\"-144.8\" font-family=\"Times,serif\" font-size=\"14.00\">married</text>\n</g>\n<!-- 0&#45;&gt;6 -->\n<g id=\"edge10\" class=\"edge\">\n<title>0&#45;&gt;6</title>\n<path fill=\"none\" stroke=\"black\" d=\"M652.51,-190.48C767.12,-188.88 995.04,-182.38 1019.37,-156 1026.9,-147.83 1022.39,-138.05 1014.37,-129.32\"/>\n<polygon fill=\"black\" stroke=\"black\" points=\"1016.64,-126.66 1006.99,-122.29 1011.81,-131.73 1016.64,-126.66\"/>\n<text text-anchor=\"middle\" x=\"1045.37\" y=\"-144.8\" font-family=\"Times,serif\" font-size=\"14.00\">married</text>\n</g>\n<!-- 7 -->\n<g id=\"node8\" class=\"node\">\n<title>7</title>\n<ellipse fill=\"none\" stroke=\"black\" cx=\"1215.37\" cy=\"-105\" rx=\"133.78\" ry=\"18\"/>\n<text text-anchor=\"middle\" x=\"1215.37\" y=\"-101.3\" font-family=\"Times,serif\" font-size=\"14.00\">Trinity United Church in Chicago</text>\n</g>\n<!-- 0&#45;&gt;7 -->\n<g id=\"edge13\" class=\"edge\">\n<title>0&#45;&gt;7</title>\n<path fill=\"none\" stroke=\"black\" d=\"M652.69,-191.66C746.38,-191.4 923.87,-186.39 1071.37,-156 1104.41,-149.19 1140.24,-136.77 1167.9,-126.01\"/>\n<polygon fill=\"black\" stroke=\"black\" points=\"1169.31,-129.21 1177.33,-122.28 1166.74,-122.7 1169.31,-129.21\"/>\n<text text-anchor=\"middle\" x=\"1208.37\" y=\"-144.8\" font-family=\"Times,serif\" font-size=\"14.00\">married Michelle Robinson at</text>\n</g>\n<!-- 8 -->\n<g id=\"node9\" class=\"node\">\n<title>8</title>\n<ellipse fill=\"none\" stroke=\"black\" cx=\"1434.37\" cy=\"-105\" rx=\"67.69\" ry=\"18\"/>\n<text text-anchor=\"middle\" x=\"1434.37\" y=\"-101.3\" font-family=\"Times,serif\" font-size=\"14.00\">October 3 1992</text>\n</g>\n<!-- 0&#45;&gt;8 -->\n<g id=\"edge14\" class=\"edge\">\n<title>0&#45;&gt;8</title>\n<path fill=\"none\" stroke=\"black\" d=\"M652.13,-190.26C802.99,-188.15 1174.26,-180.56 1296.37,-156 1329.63,-149.31 1365.62,-136.05 1392.51,-124.87\"/>\n<polygon fill=\"black\" stroke=\"black\" points=\"1394.13,-127.98 1401.98,-120.86 1391.4,-121.54 1394.13,-127.98\"/>\n<text text-anchor=\"middle\" x=\"1433.87\" y=\"-144.8\" font-family=\"Times,serif\" font-size=\"14.00\">married Michelle Robinson On</text>\n</g>\n<!-- 5 -->\n<g id=\"node6\" class=\"node\">\n<title>5</title>\n<ellipse fill=\"none\" stroke=\"black\" cx=\"777.37\" cy=\"-18\" rx=\"40.89\" ry=\"18\"/>\n<text text-anchor=\"middle\" x=\"777.37\" y=\"-14.3\" font-family=\"Times,serif\" font-size=\"14.00\">Chicago</text>\n</g>\n<!-- 4&#45;&gt;5 -->\n<g id=\"edge7\" class=\"edge\">\n<title>4&#45;&gt;5</title>\n<path fill=\"none\" stroke=\"black\" d=\"M764.1,-87.12C760.55,-81.65 757.19,-75.34 755.37,-69 752.95,-60.62 755.11,-51.8 758.87,-43.95\"/>\n<polygon fill=\"black\" stroke=\"black\" points=\"761.92,-45.67 763.84,-35.25 755.84,-42.2 761.92,-45.67\"/>\n<text text-anchor=\"middle\" x=\"767.37\" y=\"-57.8\" font-family=\"Times,serif\" font-size=\"14.00\">is in</text>\n</g>\n<!-- 4&#45;&gt;5 -->\n<g id=\"edge8\" class=\"edge\">\n<title>4&#45;&gt;5</title>\n<path fill=\"none\" stroke=\"black\" d=\"M778.54,-86.92C778.88,-81.22 779.2,-74.84 779.37,-69 779.57,-61.65 779.43,-53.69 779.14,-46.33\"/>\n<polygon fill=\"black\" stroke=\"black\" points=\"782.62,-45.94 778.63,-36.12 775.63,-46.28 782.62,-45.94\"/>\n<text text-anchor=\"middle\" x=\"792.37\" y=\"-57.8\" font-family=\"Times,serif\" font-size=\"14.00\">is in</text>\n</g>\n</g>\n</svg>\n",
      "text/plain": [
       "<graphviz.graphs.Digraph at 0x7f7ba2e0d340>"
      ]
     },
     "execution_count": 6,
     "metadata": {},
     "output_type": "execute_result"
    }
   ],
   "source": [
    "dot.render('kb-demo', view=True) \n",
    "dot"
   ]
  },
  {
   "cell_type": "code",
   "execution_count": null,
   "metadata": {},
   "outputs": [],
   "source": []
  }
 ],
 "metadata": {
  "kernelspec": {
   "display_name": "base",
   "language": "python",
   "name": "python3"
  },
  "language_info": {
   "codemirror_mode": {
    "name": "ipython",
    "version": 3
   },
   "file_extension": ".py",
   "mimetype": "text/x-python",
   "name": "python",
   "nbconvert_exporter": "python",
   "pygments_lexer": "ipython3",
   "version": "3.9.12"
  },
  "vscode": {
   "interpreter": {
    "hash": "719d45e38b6b35dce474b00597395544d0fa9e2eb71949a83c153289e71e7b5f"
   }
  }
 },
 "nbformat": 4,
 "nbformat_minor": 2
}
