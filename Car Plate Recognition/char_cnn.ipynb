{
 "cells": [
  {
   "cell_type": "markdown",
   "metadata": {},
   "source": [
    "# Import some packages\n",
    "\n",
    "You should load packages you may need in this project first"
   ]
  },
  {
   "cell_type": "code",
   "execution_count": 1,
   "metadata": {
    "scrolled": true
   },
   "outputs": [
    {
     "name": "stderr",
     "output_type": "stream",
     "text": [
      "2023-05-07 14:53:31.657489: I tensorflow/core/platform/cpu_feature_guard.cc:193] This TensorFlow binary is optimized with oneAPI Deep Neural Network Library (oneDNN) to use the following CPU instructions in performance-critical operations:  SSE4.1 SSE4.2 AVX AVX2 FMA\n",
      "To enable them in other operations, rebuild TensorFlow with the appropriate compiler flags.\n"
     ]
    }
   ],
   "source": [
    "import skimage.io\n",
    "import skimage.color\n",
    "import skimage.transform\n",
    "import matplotlib.pyplot as plt\n",
    "%matplotlib inline\n",
    "\n",
    "import numpy as np\n",
    "import os\n",
    "import random\n",
    "\n",
    "import keras\n",
    "from keras.datasets import mnist\n",
    "from keras.models import Sequential\n",
    "from keras.layers import Dense, Dropout, Flatten\n",
    "from keras.layers import Conv2D, MaxPooling2D\n",
    "from keras import backend as K"
   ]
  },
  {
   "cell_type": "markdown",
   "metadata": {},
   "source": [
    "# Load character data from the dataset subfolder\n"
   ]
  },
  {
   "cell_type": "code",
   "execution_count": 2,
   "metadata": {
    "scrolled": true
   },
   "outputs": [],
   "source": [
    "# # provide your code here\n",
    "# DATASET_DIR = './dataset/'\n",
    "# classes = os.listdir(DATASET_DIR)\n",
    "# data = []\n",
    "# for cls in classes:\n",
    "#     files = os.listdir(DATASET_DIR + cls)\n",
    "#     for f in files:\n",
    "#         img_path = DATASET_DIR + cls + '/' + f\n",
    "#         img = skimage.io.imread(img_path, as_gray = True)\n",
    "#         # if img.shape[-1] == 3:\n",
    "#         #     img = skimage.color.rgb2gray(img)\n",
    "#         data.append({\n",
    "#             'x': img,\n",
    "#             'y': cls\n",
    "#         })\n",
    "        \n",
    "# random.shuffle(data) \n",
    "\n",
    "# provide your code here\n",
    "DATASET_DIR = './dataset/'\n",
    "classes = os.listdir(DATASET_DIR)\n",
    "data = []\n",
    "for cls in classes:\n",
    "    files = os.listdir(DATASET_DIR +cls)\n",
    "    for f in files:\n",
    "        img = skimage.io.imread(DATASET_DIR +cls +\"/\" +f)\n",
    "        if img.shape[-1] == 3:\n",
    "            img = skimage.color.rgb2gray(img)\n",
    "        data.append({\n",
    "            'x': img,\n",
    "            'y': cls\n",
    "        })\n",
    "        \n",
    "random.shuffle(data) "
   ]
  },
  {
   "cell_type": "code",
   "execution_count": 3,
   "metadata": {},
   "outputs": [
    {
     "data": {
      "text/plain": [
       "(20, 20)"
      ]
     },
     "metadata": {},
     "output_type": "display_data"
    },
    {
     "data": {
      "image/png": "[encoded data removed]",
      "text/plain": [
       "<Figure size 640x480 with 1 Axes>"
      ]
     },
     "metadata": {},
     "output_type": "display_data"
    }
   ],
   "source": [
    "# display the image after reading\n",
    "display(img.shape)\n",
    "skimage.io.imshow(img);"
   ]
  },
  {
   "cell_type": "markdown",
   "metadata": {},
   "source": [
    "# create train data set and test data set \n",
    "Using 80/20 rule, 80 precent for trainning, and 20 percent for testing."
   ]
  },
  {
   "cell_type": "code",
   "execution_count": 4,
   "metadata": {},
   "outputs": [],
   "source": [
    "# def getRandomIndex(n, x):\n",
    "#     # the index is from 0 to n, not included n, and the index is not replace\n",
    "#     index = np.random.choice(np.arange(n), size=x, replace=False)\n",
    "#     return index"
   ]
  },
  {
   "cell_type": "code",
   "execution_count": 5,
   "metadata": {},
   "outputs": [],
   "source": [
    "from sklearn.model_selection import train_test_split\n",
    "\n",
    "X = [d['x'] for d in data]\n",
    "y = [d['y'] for d in data]\n",
    "\n",
    "ys = list(np.unique(y))\n",
    "y = [ys.index(v) for v in y]\n",
    "\n",
    "x_train, x_test, y_train, y_test = train_test_split(X, y, test_size = 0.2, random_state = 22)\n",
    "\n",
    "# # generate random index\n",
    "# train_index = getRandomIndex(len(X),int(len(X)*0.8))\n",
    "# test_index = np.delete(np.arange(len(X)), train_index)\n",
    "\n",
    "# x_train = [X[i] for i in train_index.tolist()]\n",
    "# y_train = [y[i] for i in train_index.tolist()]\n",
    "\n",
    "# x_test = [X[i] for i in test_index.tolist()]\n",
    "# y_test = [y[i] for i in test_index.tolist()]"
   ]
  },
  {
   "cell_type": "markdown",
   "metadata": {},
   "source": [
    "# Examming and Understand data set for trainning\n"
   ]
  },
  {
   "cell_type": "code",
   "execution_count": 6,
   "metadata": {},
   "outputs": [
    {
     "name": "stdout",
     "output_type": "stream",
     "text": [
      "[[  0   0   0   0   0   0   0   0   0   2   0  17 202 241  27   0   0   0\n",
      "    0   0]\n",
      " [  0   0   0   0   0   0   0   0   0   0   0 117 255 255 166   0   0   0\n",
      "    0   0]\n",
      " [  0   0   0   0   0   0   0   0   1   0   0 115 253 255 162   2   0   0\n",
      "    0   0]\n",
      " [  0   0   0   0   0   0   0   0   2   1  49 255 255 248 171   0   0   0\n",
      "    0   0]\n",
      " [  0   0   0   0   0   0   0   0   0   0 255 254 253 255 167   0   0   0\n",
      "    0   0]\n",
      " [  0   0   0   0   0   0   0   0   1   0 253 255 255 254 162   2   0   0\n",
      "    0   0]\n",
      " [  0   0   0   0   0   0   0   0   0 208 255 252 255 255 166   2   0   0\n",
      "    0   0]\n",
      " [  0   0   0   0   0   0   0   0 141 255 255 227 238 255 168   0   0   0\n",
      "    0   0]\n",
      " [  0   0   3   0   0   2   0   0 140 254 233  63 191 255 165   0   0   0\n",
      "    0   0]\n",
      " [  1   1   0   0   0   0   6  53 239 255 218   0 193 255 167   0   0   0\n",
      "    0   0]\n",
      " [  0   2   2   1   1   1   0  92 253 253   1   5 188 255 163   1   0   0\n",
      "    0   0]\n",
      " [  2   0   2   0   0   2   2 255 255 158   1   0 192 255 167   2   0   0\n",
      "    0   0]\n",
      " [  2   0   0   0   1   0 182 254 254  41   0   1 194 252 163   0   0   0\n",
      "    0   0]\n",
      " [  1   0   1   0   0   7 245 255 255  34   0  10 190 255 167   2   0   0\n",
      "    0   0]\n",
      " [  1   0   0   2   1 163 255 253 253  42  89 165 253 255 200  29   0   0\n",
      "    0   0]\n",
      " [  0   2   0   0   0 167 255 255 254 181 254 254 255 255 254  89   0   0\n",
      "    0   0]\n",
      " [  0   2   1   1   0   7 245 255 255 255 255 254 255 255 253  90   0   0\n",
      "    0   0]\n",
      " [  0   0   0   0   0   5   0   0   1   0   0  85 236 254 255  89   0   0\n",
      "    0   0]\n",
      " [  1   6   0   1   0   0   0   2   0   0   4   2 193 255 206  39   0   0\n",
      "    0   0]\n",
      " [  0   0   0   1   0   1   1   0   1   0   0   0 191 251 168   0   0   0\n",
      "    0   0]]\n",
      "[4, 10, 13, 8, 8, 56, 1, 17, 31, 11, 22, 1, 10, 1, 51, 8, 21, 23, 10, 25, 9, 9, 51, 5, 0, 5, 51, 0, 10, 0, 11, 50, 6, 11, 10, 10, 33, 63, 0, 11, 42, 60, 21, 43, 14, 9, 45, 16, 8, 10, 3, 8, 29, 10, 58, 5, 13, 55, 26, 5, 11, 18, 20, 2, 43, 27, 36, 5, 2, 5, 28, 4, 3, 24, 2, 29, 6, 16, 1, 53, 15, 35, 39, 20, 7, 2, 5, 19, 8, 9, 0, 4, 0, 11, 20, 14, 1, 19, 64, 6, 9, 16, 8, 58, 10, 9, 18, 6, 25, 11, 8, 7, 14, 36, 3, 24, 35, 31, 8, 9, 10, 1, 1, 8, 8, 28, 1, 9, 10, 44, 6, 10, 19, 35, 14, 6, 7, 3, 29, 9, 6, 9, 6, 3, 47, 9, 48, 5, 20, 64, 22, 15, 12, 3, 16, 1, 4, 7, 17, 53, 10, 10, 55, 60, 0, 9, 1, 7, 51, 11, 4, 8, 5, 10, 10, 17, 15, 12, 10, 8, 7, 0, 6, 8, 8, 3, 2, 2, 12, 29, 10, 56, 9, 47, 44, 1, 11, 6, 45, 12, 8, 32, 9, 9, 5, 9, 36, 6, 8, 44, 12, 61, 11, 15, 7, 4, 5, 3, 1, 39, 43, 20, 5, 36, 28, 8, 8, 44, 11, 2, 15, 47, 9, 2, 9, 7, 3, 62, 22, 10, 25, 23, 51, 6, 10, 0, 52, 24, 19, 10, 6, 10, 51, 52, 16, 9, 9, 14, 64, 12, 8, 23, 4, 38, 6, 5, 49, 12, 7, 63, 64, 44, 11, 9, 11, 10, 8, 18, 44, 31, 44, 9, 5, 19, 30, 8, 8, 2, 7, 20, 64, 0, 63, 19, 51, 8, 10, 2, 6, 9, 12, 17, 19, 3, 22, 3, 9, 24, 29, 4, 52, 7, 32, 6, 6, 7, 9, 6, 7, 7, 12, 7, 1, 10, 1, 8, 19, 49, 6, 16, 56, 6, 20, 8, 5, 48, 51, 5, 60, 0, 12, 8, 7, 25, 6, 63, 24, 9, 39, 11, 21, 8, 8, 34, 20, 0, 44, 6, 7, 8, 2, 8, 7, 11, 41, 1, 3, 1, 63, 3, 22, 3, 11, 3, 10, 20, 49, 60, 9, 60, 1, 24, 10, 6, 10, 11, 7, 8, 20, 28, 60, 41, 47, 6, 5, 8, 3, 10, 52, 2, 4, 26, 59, 13, 8, 11, 60, 0, 43, 12, 43, 7, 7, 10, 21, 2, 26, 8, 55, 10, 38, 1, 45, 0, 9, 17, 8, 8, 3, 24, 32, 9, 4, 2, 0, 9, 11, 2, 25, 10, 8, 22, 26, 19, 10, 5, 20, 10, 9, 51, 4, 12, 16, 4, 55, 10, 11, 2, 6, 22, 8, 11, 6, 29, 5, 6, 9, 8, 10, 41, 17, 0, 10, 44, 4, 28, 6, 9, 35, 2, 26, 59, 15, 37, 13, 41, 3, 5, 9, 23, 50, 39, 5, 10, 25, 0, 6, 7, 13, 57, 9, 7, 44, 58, 5, 0, 6, 4, 11, 10, 5, 0, 28, 4, 28, 1, 10, 55, 10, 2, 5, 18, 8, 56, 9, 21, 6, 9, 50, 23, 1, 9, 47, 8, 1, 5, 7, 48, 2, 7, 30, 1, 0, 7, 50, 26, 7, 8, 52, 10, 9, 9, 5, 10, 6, 16, 45, 11, 6, 9, 57, 9, 17, 6, 64, 36, 17, 61, 57, 0, 1, 1, 37, 24, 35, 64, 27, 28, 3, 24, 3, 8, 14, 55, 5, 1, 13, 8, 31, 8, 28, 10, 1, 29, 13, 6, 4, 5, 41, 35, 26, 36, 9, 50, 5, 4, 11, 11, 0, 11, 24, 52, 10, 5, 51, 20, 9, 11, 45, 11, 9, 17, 5, 45, 9, 8, 44, 5, 21, 11, 5, 7, 15, 7, 6, 19, 58, 8, 11, 6, 8, 0, 2, 20, 29, 23, 1, 10, 5, 9, 9, 41, 10, 0, 4, 2, 45, 7, 1, 9, 9, 26, 7, 28, 11, 5, 55, 9, 59, 9, 5, 21, 50, 10, 12, 5, 15, 17, 9, 10, 11, 10, 5, 2, 15, 35, 7, 7, 36, 9, 1, 7, 8, 6, 3, 9, 0, 5, 55, 8, 4, 30, 5, 10, 10, 10, 19, 11, 10, 6, 22, 14, 51, 13, 2, 21, 0, 26, 52, 45, 26, 8, 9, 8, 0, 21, 3, 9, 24, 6, 43, 6, 13, 41, 8, 41, 26, 8, 47, 50, 45, 50, 5, 12, 27, 8, 5, 17, 5, 9, 11, 20, 11, 0, 8, 1, 7, 1, 18, 5, 3, 13, 21, 61, 33, 6, 6, 10, 51, 2, 1, 37, 20, 8, 20, 7, 64, 2, 13, 8, 3, 9, 12, 55, 8, 19, 10, 28, 14, 51, 43, 9, 22, 0, 7, 15, 13, 45, 45, 19, 20, 30, 4, 13, 13, 0, 10, 3, 18, 4, 33, 23, 0, 6, 8, 29, 8, 12, 27, 5, 55, 9, 43, 5, 43, 16, 5, 2, 3, 2, 2, 14, 3, 6, 10, 9, 19, 9, 24, 2, 25, 22, 24, 10, 13, 15, 7, 1, 12, 10, 5, 8, 24, 6, 9, 11, 10, 1, 8, 38, 49, 11, 11, 0, 59, 16, 4, 45, 8, 7, 52, 5, 35, 22, 9, 7, 34, 1, 1, 26, 9, 17, 3, 19, 35, 6, 2, 11, 3, 10, 43, 9, 42, 15, 14, 7, 21, 2, 9, 8, 2, 13, 0, 3, 1, 5, 64, 5, 44, 9, 6, 2, 10, 56, 2, 5, 45, 22, 55, 47, 33, 45, 3, 11, 7, 64, 4, 4, 2, 20, 9, 36, 52, 5, 29, 21, 2, 17, 16, 17, 6, 44, 7, 16, 11, 8, 11, 36, 1, 39, 22, 39, 10, 6, 20, 8, 39, 14, 56, 9, 20, 9, 0, 39, 26, 5, 52, 26, 25, 22, 16, 26, 63, 9, 57, 7, 5, 11, 8, 3, 6, 10, 22, 7, 11, 0, 0, 1, 8, 10, 14, 11, 9, 0, 9, 9, 44, 6, 8, 5, 2, 5, 21, 14, 58, 10, 12, 0, 1, 14, 13, 9, 31, 7, 0, 1, 1, 2, 10, 11, 5, 7, 9, 61, 1, 45, 58, 1, 5, 25, 0, 20, 9, 20, 39, 44, 35, 18, 23, 19, 56, 50, 12, 37, 9, 9, 14, 15, 9, 45, 8, 9, 23, 52, 64, 10, 3, 0, 3, 0, 8, 13, 7, 7, 16, 23, 31, 23, 32, 11, 19, 32, 8, 35, 21, 16, 9, 32, 9, 10, 3, 5, 10, 45, 1, 6, 44, 12, 47, 55, 10, 14, 23, 1, 1, 44, 32, 1, 10, 18, 8, 23, 3, 60, 14, 5, 10, 27, 20, 33, 10, 21, 22, 12, 45, 7, 5, 9, 6, 40, 15, 44, 6, 11, 0, 23, 6, 13, 30, 3, 22, 19, 11, 64, 5, 22, 18, 6, 6, 8, 41, 31, 8, 11, 7, 10, 7, 23, 11, 2, 7, 7, 38, 16, 51, 9, 1, 52, 0, 36, 36, 19, 9, 3, 12, 6, 43, 6, 8, 14, 8, 7, 7, 12, 20, 7, 16, 4, 6, 6, 64, 27, 25, 8, 8, 1, 60, 13, 9, 1, 10, 23, 9, 63, 29, 9, 46, 11, 8, 22, 10, 20, 4, 6, 39, 10, 34, 10, 9, 8, 49, 4, 11, 10, 7, 20, 4, 44, 9, 1, 12, 1, 52, 32, 20, 52, 9, 2, 0, 17, 7, 47, 2, 9, 7, 8, 8, 16, 5, 22, 12, 13, 5, 14, 15, 24, 9, 51, 15, 5, 0, 1, 17, 10, 14, 11, 59, 1, 6, 19, 0, 44, 63, 0, 51, 20, 11, 5, 44, 4, 0, 7, 42, 12, 21, 45, 9, 1, 3, 22, 0, 3, 14, 43, 1, 5, 10, 10, 5, 5, 26, 10, 41, 28, 16, 10, 6, 8, 2, 41, 12, 4, 13, 3, 5, 4, 6, 44, 46, 63, 63, 3, 52, 52, 9, 5, 55, 6, 11, 9, 2, 10, 48, 50, 18, 19, 7, 9, 5, 6, 35, 24, 25, 3, 1, 8, 8, 44, 9, 5, 43, 5, 14, 8, 6, 4, 9, 5, 7, 5, 3, 42, 22, 64, 4, 9, 8, 6, 5, 28, 19, 8, 24, 7, 14, 64, 12, 11, 44, 35, 9, 7, 39, 1, 5, 6, 1, 21, 10, 1, 3, 11, 9, 7, 43, 52, 7, 55, 51, 9, 5, 6, 0, 33, 8, 22, 44, 37, 51, 25, 3, 0, 47, 1, 45, 6, 8, 20, 47, 23, 3, 33, 6, 0, 3, 19, 5, 8, 4, 31, 9, 9, 21, 12, 29, 30, 16, 19, 20, 27, 2, 6, 3, 1, 6, 5, 22, 22, 5, 5, 8, 5, 0, 2, 2, 36, 32, 7, 6, 58, 5, 7, 24, 43, 57, 63, 10, 27, 25, 13, 6, 9, 28, 13, 18, 7, 10, 0, 3, 4, 4, 7, 8, 7, 5, 17, 17, 33, 9, 3, 5, 2, 9, 20, 8, 44, 11, 17, 6, 21, 3, 52, 51, 9, 6, 10, 1, 17, 7, 9, 25, 7, 11, 19, 9, 0, 25, 1, 43, 8, 12, 2, 10, 8, 7, 36, 56, 24, 10, 9, 1, 27, 60, 8, 7, 8, 26, 11, 18, 10, 21, 5, 25, 4, 20, 4, 45, 10, 9, 43, 34, 8, 6, 9, 13, 6, 40, 45, 6, 51, 6, 9, 3, 9, 0, 5, 4, 47, 9, 16, 51, 10, 9, 41, 5, 52, 6, 8, 8, 5, 19, 11, 11, 43, 37, 23, 2, 8, 16, 1, 34, 35, 4, 30, 62, 8, 0, 3, 16, 21, 3, 36, 31, 36, 18, 17, 6, 2, 22, 0, 45, 18, 21, 49, 61, 12, 14, 30, 8, 35, 6, 19, 22, 6, 25, 5, 7, 5, 48, 39, 4, 7, 47, 43, 5, 15, 27, 18, 7, 20, 9, 19, 20, 8, 6, 12, 2, 16, 8, 16, 48, 44, 2, 8, 43, 17, 6, 9, 8, 10, 29, 5, 10, 10, 6, 6, 44, 1, 6, 5, 3, 7, 51, 64, 7, 29, 10, 3, 53, 3, 47, 8, 19, 0, 50, 5, 7, 12, 33, 23, 20, 10, 6, 57, 0, 44, 44, 0, 56, 5, 8, 2, 52, 12, 6, 21, 5, 21, 21, 5, 6, 3, 52, 18, 6, 43, 11, 8, 14, 5, 10, 9, 1, 59, 63, 8, 3, 21, 9, 22, 7, 9, 9, 37, 32, 7, 0, 3, 55, 8, 18, 11, 14, 6, 15, 45, 8, 1, 20, 11, 5, 16, 12, 9, 43, 5, 15, 10, 1, 14, 2, 14, 27, 5, 49, 50, 5, 28, 38, 28, 0, 10, 19, 4, 19, 32, 25, 0, 23, 10, 44, 57, 8, 7, 11, 14, 26, 31, 5, 2, 4, 2, 5, 25, 7, 56, 22, 28, 3, 16, 0, 7, 2, 51, 7, 1, 49, 0, 0, 1, 5, 9, 18, 25, 9, 50, 14, 6, 9, 18, 1, 21, 8, 35, 14, 1, 10, 7, 0, 5, 30, 22, 30, 9, 4, 57, 30, 10, 1, 9, 5, 4, 10, 26, 58, 28, 8, 9, 25, 59, 16, 2, 8, 9, 3, 6, 5, 5, 30, 32, 45, 43, 12, 9, 24, 7, 0, 61, 47, 7, 4, 25, 7, 10, 17, 12, 44, 16, 4, 52, 8, 22, 25, 9, 25, 9, 12, 5, 31, 13, 51, 3, 24, 20, 10, 16, 5, 7, 19, 24, 1, 0, 7, 1, 19, 63, 2, 47, 44, 11, 43, 64, 11, 0, 11, 4, 7, 6, 0, 9, 0, 45, 10, 63, 39, 52, 47, 14, 5, 36, 44, 9, 14, 9, 10, 24, 28, 2, 52, 40, 4, 6, 59, 1, 44, 17, 12, 35, 11, 16, 9, 19, 9, 23, 9, 5, 21, 10, 29, 10, 20, 5, 16, 26, 39, 2, 2, 41, 3, 18, 4, 0, 20, 15, 21, 6, 0, 2, 14, 0, 5, 6, 9, 8, 9, 26, 14, 9, 5, 4, 12, 16, 10, 10, 10, 8, 0, 7, 5, 15, 32, 9, 9, 63, 19, 4, 35, 7, 60, 9, 6, 21, 16, 52, 14, 8, 31, 15, 8, 2, 45, 3, 9, 4, 5, 6, 20, 14, 14, 45, 2, 55, 35, 2, 10, 10, 41, 32, 23, 18, 9, 1, 6, 0, 12, 1, 6, 61, 7, 17, 23, 21, 9, 57, 59, 8, 7, 0, 47, 9, 41, 19, 32, 14, 5, 19, 1, 21, 21, 33, 11, 1, 14, 14, 22, 9, 1, 57, 9, 2, 61, 33, 6, 8, 10, 7, 33, 44, 8, 49, 15, 23, 8, 49, 19, 9, 4, 25, 4, 16, 10, 7, 60, 9, 14, 62, 1, 47, 24, 9, 5, 15, 22, 2, 3, 52, 7, 0, 9, 32, 5, 3, 4, 52, 10, 25, 3, 2, 3, 9, 15, 8, 0, 6, 9, 5, 10, 5, 10, 19, 12, 3, 0, 4, 16, 8, 0, 36, 16, 31, 23, 7, 14, 8, 48, 14, 32, 10, 2, 5, 8, 0, 12, 17, 15, 16, 8, 14, 18, 1, 19, 1, 7, 12, 5, 7, 1, 20, 19, 56, 0, 14, 10, 7, 32, 8, 3, 4, 9, 9, 3, 6, 7, 35, 10, 9, 10, 18, 21, 8, 3, 34, 8, 3, 5, 1, 12, 8, 1, 61, 4, 43, 32, 9, 1, 52, 50, 3, 1, 6, 33, 15, 16, 60, 5, 19, 9, 11, 2, 47, 55, 2, 26, 8, 38, 44, 56, 7, 26, 19, 0, 10, 18, 9, 11, 35, 19, 8, 35, 19, 55, 0, 32, 39, 48, 17, 7, 35, 0, 60, 9, 35, 9, 7, 8, 10, 30, 9, 63, 1, 19, 37, 9, 10, 2, 21, 7, 6, 11, 45, 6, 10, 59, 4, 59, 28, 56, 6, 9, 53, 12, 6, 6, 21, 7, 21, 55, 1, 6, 9, 10, 43, 0, 44, 8, 51, 2, 52, 4, 1, 10, 10, 27, 60, 9, 3, 39, 10, 28, 6, 45, 4, 40, 52, 8, 14, 22, 9, 4, 33, 9, 12, 45, 1, 6, 7, 63, 4, 16, 4, 20, 5, 17, 24, 12, 9, 0, 4, 9, 9, 13, 39, 4, 44, 3, 6, 10, 5, 21, 9, 11, 36, 2, 35, 9, 47, 7, 57, 50, 25, 6, 35, 9, 10, 9, 8, 6, 21, 45, 7, 7, 24, 2, 45, 28, 37, 19, 9, 8, 6, 22, 45, 10, 5, 61, 8, 8, 18, 11, 25, 6, 20, 0, 28, 20, 3, 0, 40, 47, 0, 31, 12, 2, 64, 14, 21, 8, 9, 55, 9, 10, 7, 5, 16, 5, 20, 24, 2, 0, 3, 6, 44, 39, 23, 7, 10, 7, 1, 8, 6, 30, 8, 45, 29, 2, 11, 43, 3, 18, 12, 8, 52, 15, 9, 25, 7, 23, 20, 19, 6, 11, 9, 14, 7, 10, 0, 15, 28, 55, 5, 2, 30, 9, 28, 8, 19, 4, 0, 39, 31, 25, 17, 8, 6, 21, 0, 10, 14, 3, 11, 11, 6, 0, 8, 8, 10, 21, 3, 41, 22, 20, 21, 10, 9, 2, 8, 38, 28, 5, 5, 8, 8, 7, 10, 26, 9, 9, 9, 0, 6, 44, 8, 9, 0, 16, 8, 7, 10, 37, 10, 0, 6, 19, 9, 16, 6, 38, 64, 28, 11, 10, 7, 51, 17, 36, 6, 5, 8, 1, 18, 0, 52, 7, 63, 8, 7, 0, 5, 9, 5, 15, 10, 10, 6, 0, 9, 3, 26, 25, 5, 5, 15, 11, 61, 11, 7, 10, 4, 3, 10, 41, 50, 15, 5, 64, 9, 12, 22, 3, 10, 8, 2, 48, 2, 4, 2, 7, 50, 10, 6, 3, 5, 44, 25, 5, 6, 7, 8, 22, 12, 6, 26, 14, 27, 21, 23, 2, 7, 14, 10, 9, 41, 11, 11, 0, 19, 0, 30, 31, 8, 9, 33, 16, 45, 4, 3, 9, 10, 60, 60, 47, 3, 1, 3, 18, 9, 11, 10, 0, 12, 36, 5, 5, 27, 8, 52, 44, 50, 16, 4, 11, 9, 21, 6, 62, 1, 6, 1, 14, 8, 27, 8, 5, 18, 4, 23, 8, 17, 9, 7, 6, 7, 18, 9, 8, 42, 3, 7, 11, 9, 26, 10, 1, 23, 20, 5, 1, 35, 17, 9, 10, 7, 3, 1, 16, 5, 43, 15, 0, 12, 21, 6, 4, 45, 13, 55, 9, 52, 44, 24, 21, 13, 2, 6, 20, 20, 7, 3, 10, 13, 55, 2, 6, 53, 11, 6, 10, 30, 11, 5, 29, 52, 9, 50, 0, 7, 12, 5, 8, 20, 10, 55, 28, 26, 17, 0, 0, 7, 10, 6, 5, 27, 9, 8, 5, 3, 9, 5, 8, 9, 8, 57, 10, 6, 9, 14, 50, 5, 9, 5, 53, 45, 5, 24, 12, 6, 11, 26, 44, 9, 11, 6, 31, 7, 43, 1, 23, 10, 37, 9, 5, 10, 31, 7, 9, 58, 43, 6, 15, 61, 39, 7, 11, 0, 10, 11, 49, 9, 60, 16, 17, 43, 6, 5, 13, 3, 9, 10, 52, 6, 5, 10, 5, 25, 9, 14, 2, 12, 21, 8, 21, 23, 5, 8, 38, 25, 43, 33, 0, 5, 3, 11, 10, 29, 1, 9, 23, 5, 2, 3, 52, 18, 62, 0, 0, 30, 52, 8, 4, 7, 8, 27, 23, 8, 9, 24, 9, 61, 23, 44, 7, 0, 4, 45, 21, 55, 3, 52, 14, 39, 11, 6, 22, 1, 12, 19, 8, 16, 5, 6, 10, 5, 22, 8, 1, 21, 10, 13, 34, 5, 9, 32, 23, 8, 52, 25, 50, 2, 15, 35, 4, 24, 10, 10, 9, 30, 43, 12, 35, 6, 2, 20, 44, 8, 29, 8, 2, 14, 22, 8, 64, 22, 29, 35, 17, 9, 28, 45, 19, 7, 0, 7, 63, 7, 6, 18, 6, 10, 2, 44, 7, 7, 18, 8, 8, 8, 3, 10, 0, 0, 26, 9, 10, 1, 5, 7, 14, 19, 52, 52, 9, 6, 0, 3, 36, 3, 2, 16, 12, 8, 0, 0, 9, 55, 45, 10, 18, 8, 45, 9, 21, 51, 5, 18, 33, 10, 12, 0, 11, 21, 10, 0, 45, 14, 9, 12, 8, 16, 55, 43, 31, 26, 31, 8, 20, 10, 33, 10, 58, 7, 20, 20, 55, 55, 9, 9, 41, 9, 8, 7, 1, 6, 5, 14, 17, 44, 5, 19, 0, 1, 39, 8, 39, 4, 60, 43, 0, 9, 41, 23, 10, 0, 6, 25, 36, 16, 25, 1, 51, 2, 9, 2, 5, 63, 6, 7, 2, 55, 8, 2, 1, 60, 55, 15, 0, 6, 50, 10, 47, 5, 1, 7, 8, 11, 13, 46, 37, 26, 35, 22, 10, 45, 1, 8, 5, 2, 1, 1, 57, 29, 34, 3, 20, 10, 6, 1, 9, 5, 21, 10, 5, 7, 12, 40, 4, 20, 13, 8, 45, 12, 7, 57, 35, 45, 2, 12, 39, 4, 35, 12, 4, 10, 7, 8, 25, 2, 43, 58, 35, 9, 9, 6, 20, 5, 63, 29, 19, 47, 5, 8, 44, 3, 28, 10, 2, 58, 31, 16, 10, 0, 57, 14, 12, 22, 8, 45, 1, 0, 8, 45, 6, 19, 10, 8, 5, 3, 29, 5, 10, 5, 15, 17, 9, 55, 10, 8, 52, 10, 15, 10, 57, 2, 22, 11, 36, 2, 5, 11, 51, 9, 45, 57, 45, 8, 5, 11, 55, 15, 3, 9, 45, 2, 5, 26, 7, 22, 1, 10, 39, 10, 9, 7, 5, 23, 9, 5, 7, 2, 16, 10, 24, 45, 51, 1, 21, 1, 5, 55, 0, 45, 32, 12, 51, 37, 4, 7, 5, 6, 8, 50, 6, 39, 3, 5, 8, 7, 8, 0, 9, 5, 14, 9, 11, 8, 1, 14, 3, 3, 5, 3, 7, 3, 51, 52, 20, 2, 9, 0, 7, 7, 3, 15, 20, 33, 3, 14, 25, 35, 8, 5, 25, 8, 32, 9, 6, 4, 2, 8, 9, 16, 10, 49, 17, 25, 33, 23, 0, 8, 43, 4, 7, 0, 20, 12, 3, 0, 5, 39, 7, 58, 1, 6, 8, 0, 1, 4, 5, 2, 14, 45, 1, 0, 60, 2, 1, 7, 14, 10, 9, 2, 44, 6, 14, 22, 16, 21, 46, 49, 12, 21, 23, 0, 24, 2, 16, 20, 5, 5, 26, 20, 43, 8, 8, 25, 8, 43, 22, 16, 20, 5, 0, 2, 2, 5, 0, 7, 44, 55, 8, 1, 11, 5, 0, 2, 21, 16, 9, 11, 25, 4, 10, 45, 0, 1, 21, 7, 0, 8, 23, 10, 19, 52, 9, 5, 27, 6, 9, 7, 1, 0, 9, 10, 4, 27, 31, 32, 43, 41, 4, 7, 43, 7, 55, 8, 1, 24, 8, 47, 3, 11, 55, 43, 8, 2, 0, 9, 7, 7, 7, 9, 8, 4, 39, 60, 18, 14, 6, 13, 1, 3, 37, 9, 14, 3, 46, 2, 1, 26, 8, 5, 15, 1, 51, 5, 10, 8, 9, 10, 13, 11, 18, 20, 2, 28, 2, 7, 2, 6, 45, 9, 0, 5, 10, 2, 22, 52, 19, 30, 0, 8, 32, 43, 0, 32, 12, 6, 7, 2, 59, 45, 7, 5, 8, 10, 8, 7, 17, 10, 8, 9, 6, 17, 32, 7, 9, 25, 55, 39, 10, 3, 7, 5, 64, 8, 3, 45, 44, 8, 59, 16, 52, 2, 20, 2, 0, 45, 7, 4, 63, 7, 16, 7, 21, 26, 8, 16, 5, 6, 7, 22, 8, 63, 10, 8, 15, 46, 7, 10, 4, 6, 2, 53, 0, 7, 8, 8, 10, 0, 1, 45, 27, 48, 16, 3, 2, 9, 21, 7, 10, 11, 9, 0, 44, 10, 2, 31, 37, 2, 8, 18, 63, 6, 9, 8, 0, 17, 5, 5, 12, 36, 9, 6, 8, 0, 10, 3, 50, 9, 10, 2, 10, 52, 2, 20, 12, 20, 10, 7, 32, 51, 21, 14, 44, 12, 1, 8, 7, 8, 51, 10, 8, 7, 2, 51, 26, 9, 18, 19, 25, 45, 6, 6, 44, 10, 9, 18, 10, 35, 39, 9, 2, 62, 4, 2, 28, 53, 10, 26, 12, 8, 11, 26, 12, 5, 0, 18, 5, 31, 0, 5, 17, 36, 5, 53, 11, 6, 23, 15, 3, 52, 0, 0, 8, 16, 44, 17, 14, 12, 59, 21, 8, 35, 28, 14, 9, 63, 21, 19, 3, 3, 9, 35, 7, 24, 51, 7, 2, 9, 9, 1, 39, 52, 15, 3, 37, 1, 9, 34, 15, 1, 9, 19, 9, 1, 26, 35, 2, 5, 27, 21, 6, 45, 7, 9, 11, 8, 5, 8, 21, 25, 9, 14, 7, 4, 10, 0, 31, 45, 3, 5, 6, 36, 0, 3, 23, 10, 17, 4, 33, 5, 0, 2, 11, 21, 1, 23, 3, 12, 8, 5, 10, 5, 2, 0, 6, 0, 0, 33, 18, 8, 20, 64, 22, 6, 45, 3, 55, 8, 12, 5, 9, 14, 26, 6, 64, 45, 43, 9, 18, 6, 9, 3, 9, 2, 14, 4, 5, 30, 24, 0, 44, 30, 9, 44, 23, 6, 10, 13, 45, 5, 8, 55, 4, 22, 8, 10, 6, 8, 51, 28, 11, 43, 24, 10, 1, 4, 6, 24, 3, 19, 8, 10, 35, 3, 7, 7, 17, 8, 14, 26, 0, 6, 43, 45, 4, 2, 17, 3, 20, 7, 23, 10, 27, 52, 4, 7, 64, 6, 9, 8, 39, 3, 12, 2, 49, 57, 10, 1, 6, 9, 10, 47, 13, 32, 5, 20, 11, 1, 7, 9, 0, 10, 0, 8, 5, 9, 23, 64, 2, 5, 11, 18, 6, 52, 5, 17, 2, 11, 11, 54, 14, 10, 23, 6, 5, 3, 4, 9, 35, 11, 0, 22, 7, 8, 52, 15, 8, 4, 32, 44, 14, 12, 21, 0, 19, 9, 35, 0, 4, 52, 19, 35, 1, 16, 44, 5, 17, 2, 13, 36, 0, 3, 47, 7, 12, 58, 7, 24, 58, 8, 22, 6, 7, 0, 18, 10, 7, 43, 3, 14, 8, 11, 0, 3, 39, 47, 7, 25, 9, 9, 7, 19, 6, 7, 52, 8, 44, 25, 12, 7, 10, 9, 14, 21, 2, 10, 51, 43, 10, 2, 1, 3, 51, 62, 11, 22, 19, 8, 19, 30, 21, 8, 17, 61, 8, 50, 10, 11, 10, 2, 31, 9, 59, 5, 3, 9, 9, 8, 16, 5, 10, 19, 50, 7, 16, 10, 23, 7, 8, 0, 19, 3, 55, 19, 6, 8, 11, 5, 19, 6, 10, 15, 26, 0, 6, 4, 23, 9, 8, 12, 33, 9, 10, 30, 50, 11, 33, 41, 43, 0, 49, 32, 5, 19, 8, 51, 11, 64, 5, 51, 52, 10, 16, 0, 21, 9, 23, 32, 43, 0, 63, 10, 3, 9, 52, 46, 9, 20, 30, 7, 10, 9, 43, 6, 1, 9, 10, 5, 64, 10, 59, 5, 10, 1, 6, 29, 17, 6, 10, 32, 9, 5, 2, 26, 2, 6, 31, 23, 53, 2, 20, 8, 16, 63, 47, 31, 20, 8, 27, 21, 9, 15, 52, 6, 45, 10, 9, 1, 12, 6, 60, 23, 52, 37, 5, 45, 7, 7, 20, 0, 6, 6, 51, 12, 13, 46, 9, 35, 63, 45, 10, 7, 30, 25, 45, 18, 45, 3, 0, 55, 40, 7, 32, 10, 20, 2, 5, 48, 11, 8, 0, 9, 1, 43, 19, 3, 10, 33, 5, 7, 45, 10, 7, 43, 39, 43, 17, 17, 5, 9, 14, 56, 7, 11, 10, 52, 10, 51, 43, 6, 6, 10, 7, 5, 1, 14, 1, 25, 9, 14, 2, 7, 58, 21, 8, 9, 52, 7, 10, 15, 52, 9, 61, 3, 12, 51, 5, 14, 20, 5, 7, 10, 9, 8, 51, 5, 33, 8, 3, 28, 17, 18, 35, 23, 17, 9, 58, 12, 50, 1, 8, 21, 8, 3, 8, 3, 9, 8, 7, 5, 60, 7, 50, 2, 19, 9, 59, 10, 64, 35, 17, 36, 12, 13, 3, 6, 13, 10, 9, 8, 45, 33, 1, 12, 14, 6, 23, 9, 31, 50, 48, 0, 32, 11, 51, 5, 18, 5, 6, 7, 14, 7, 52, 44, 8, 11, 17, 28, 33, 5, 23, 16, 25, 14, 8, 24, 4, 6, 19, 19, 5, 50, 6, 9, 1, 2, 15, 36, 7, 58, 5, 5, 10, 51, 11, 11, 7, 10, 8, 17, 11, 9, 9, 62, 6, 33, 10, 22, 7, 3, 36, 52, 17, 22, 6, 45, 31, 0, 5, 4, 8, 5, 14, 43, 6, 6, 0, 2, 8, 9, 51, 10, 58, 58, 32, 22, 21, 61, 36, 60, 1, 6, 16, 5, 7, 22, 9, 43, 9, 45, 13, 15, 10, 30, 32, 7, 1, 8, 5, 12, 12, 9, 10, 55, 10, 9, 6, 7, 4, 8, 5, 0, 5, 10, 39, 2, 11, 1, 3, 8, 25, 11, 2, 8, 1, 17, 45, 9, 2, 4, 14, 39, 7, 9, 4, 7, 30, 7, 5, 6, 24, 45, 45, 20, 10, 13, 3, 20, 59, 3, 6, 20, 35, 8, 22, 0, 5, 52, 6, 26, 17, 55, 0, 6, 5, 5, 8, 4, 7, 47, 8, 47, 5, 19, 54, 9, 9, 0, 19, 10, 39, 15, 9, 9, 50, 55, 2, 26, 10, 10, 8, 44, 31, 0, 55, 29, 12, 4, 5, 9, 2, 3, 1, 4, 15, 10, 11, 37, 59, 64, 43, 8, 9, 3, 7, 3, 5, 64, 9, 14, 9, 8, 17, 2, 31, 32, 6, 8, 9, 26, 9, 3, 47, 7, 3, 0, 11, 21, 19, 2, 5, 23, 18, 5, 0, 53, 17, 30, 2, 7, 5, 5, 7, 25, 33, 8, 1, 1, 1, 13, 17, 51, 2, 63, 8, 20, 22, 9, 12, 13, 30, 10, 58, 5, 45, 6, 7, 3, 37, 42, 28, 8, 46, 22, 10, 14, 60, 19, 19, 3, 0, 9, 8, 20, 27, 14, 11, 11, 8, 7, 37, 13, 44, 8, 5, 3, 14, 6, 9, 8, 22, 3, 9, 6, 2, 5, 1, 19, 1, 5, 7, 10, 5, 10, 21, 2, 7, 7, 10, 12, 9, 14, 6, 0, 0, 5, 3, 9, 35, 9, 26, 7, 3, 55, 3, 11, 0, 8, 3, 25, 6, 25, 19, 27, 10, 16, 44, 5, 52, 10, 28, 9, 43, 50, 10, 13, 10, 33, 49, 12, 11, 5, 44, 4, 25, 5, 24, 7, 7, 20, 52, 33, 12, 8, 3, 8, 53, 25, 8, 3, 8, 13, 26, 21, 25, 58, 9, 16, 5, 9, 44, 25, 2, 20, 20, 17, 0, 2, 0, 46, 8, 28, 44, 0, 9, 53, 62, 51, 10, 4, 3, 14, 45, 3, 28, 5, 11, 35, 6, 39, 10, 7, 10, 16, 20, 1, 10, 3, 58, 55, 5, 5, 7, 7, 7, 7, 40, 5, 8, 51, 0, 7, 17, 37, 9, 9, 43, 17, 5, 9, 8, 7, 6, 1, 13, 12, 21, 3, 8, 29, 9, 24, 9, 9, 20, 9, 0, 8, 7, 0, 8, 5, 47, 39, 9, 1, 0, 5, 43, 11, 53, 7, 17, 5, 0, 2, 0, 49, 51, 9, 9, 10, 51, 64, 24, 50, 3, 62, 7, 44, 1, 1, 35, 9, 16, 61, 2, 1, 22, 11, 3, 8, 16, 16, 13, 16, 33, 6, 10, 5, 60, 0, 5, 15, 8, 43, 15, 8, 6, 20, 8, 22, 63, 11, 0, 4, 22, 45, 3, 6, 23, 19, 16, 8, 20, 2, 9, 55, 0, 23, 43, 4, 13, 30, 39, 9, 18, 25, 8, 47, 29, 0, 3, 57, 8, 3, 24, 5, 6, 14, 10, 32, 35, 9, 2, 41, 2, 7, 2, 39, 0, 3, 5, 61, 10, 9, 18, 7, 30, 13, 6, 9, 12, 8, 14, 9, 10, 10, 0, 11, 10, 2, 8, 7, 42, 5, 8, 21, 9, 14, 7, 5, 49, 52, 5, 43, 9, 57, 7, 3, 61, 18, 56, 9, 4, 9, 5, 0, 52, 14, 6, 21, 4, 10, 9, 9, 5, 8, 3, 5, 52, 13, 14, 19, 13, 59, 27, 11, 3, 4, 7, 32, 2, 15, 52, 46, 6, 19, 5, 16, 0, 6, 3, 28, 25, 9, 19, 3, 7, 0, 10, 8, 3, 56, 5, 26, 20, 17, 60, 29, 1, 18, 8, 18, 8, 25, 51, 8, 6, 0, 18, 10, 10, 2, 7, 9, 4, 14, 7, 8, 10, 3, 23, 41, 36, 5, 9, 33, 21, 5, 17, 41, 17, 53, 5, 12, 20, 58, 53, 9, 47, 45, 4, 51, 47, 14, 26, 3, 2, 1, 1, 0, 10, 32, 7, 9, 7, 0, 10, 27, 2, 22, 50, 6, 0, 26, 7, 38, 10, 5, 9, 53, 10, 2, 17, 2, 5, 3, 8, 0, 11, 4, 10, 10, 41, 50, 24, 6, 52, 2, 52, 3, 60, 9, 9, 0, 26, 25, 50, 13, 8, 45, 15, 10, 0, 2, 11, 9, 32, 15, 28, 0, 10, 10, 5, 9, 9, 7, 11, 6, 8, 9, 49, 8, 5, 3, 6, 6, 20, 23, 10, 3, 23, 10, 10, 32, 5, 5, 58, 8, 10, 32, 2, 4, 46, 5, 18, 0, 43, 15, 9, 8, 1, 14, 32, 15, 9, 7, 9, 5, 20, 6, 2, 64, 3, 14, 3, 8, 1, 2, 23, 44, 43, 15, 8, 58, 32, 8, 47, 51, 10, 8, 2, 0, 52, 0, 4, 26, 52, 10, 10, 17, 1, 8, 19, 1, 2, 57, 29, 2, 36, 23, 23, 27, 7, 41, 7, 52, 12, 22, 59, 55, 5, 5, 8, 24, 5, 4, 9, 9, 11, 5, 0, 10, 50, 44, 8, 33, 8, 10, 3, 54, 19, 21, 43, 5, 9, 47, 52, 3, 6, 8, 9, 49, 44, 15, 4, 10, 8, 8, 1, 45, 21, 51, 7, 10, 9, 10, 52, 9, 5, 4, 28, 19, 3, 8, 9, 47, 9, 8, 8, 4, 22, 45, 37, 10, 8, 48, 13, 5, 16, 33, 11, 0, 1, 46, 13, 9, 43, 26, 1, 21, 9, 21, 5, 2, 4, 44, 10, 5, 3, 10, 52, 9, 19, 7, 59, 16, 8, 10, 29, 5, 9, 8, 16, 9, 12, 51, 5, 7, 18, 25, 5, 22, 19, 52, 36, 3, 8, 52, 10, 31, 43, 8, 47, 12, 2, 17, 9, 2, 5, 9, 30, 63, 7, 56, 16, 5, 8, 6, 9, 4, 63, 9, 13, 9, 24, 24, 21, 26, 6, 19, 0, 47, 0, 2, 2, 9, 17, 4, 8, 7, 9, 7, 6, 41, 5, 14, 24, 6, 51, 10, 8, 17, 21, 57, 9, 10, 5, 8, 2, 15, 10, 12, 2, 1, 24, 43, 52, 25, 23, 19, 22, 1, 8, 10, 11, 2, 9, 51, 43, 8, 55, 43, 30, 3, 9, 20, 11, 47, 9, 7, 6, 15, 41, 50, 11, 58, 9, 6, 8, 10, 45, 9, 7, 5, 1, 33, 41, 10, 44, 22, 10, 17, 61, 8, 31, 1, 6, 50, 9, 15, 0, 5, 23, 19, 13, 20, 9, 11, 10, 5, 9, 10, 14, 2, 8, 6, 8, 10, 10, 26, 5, 43, 7, 9, 5, 11, 5, 7, 0, 13, 27, 11, 7, 19, 13, 5, 17, 17, 35, 41, 15, 5, 60, 63, 32, 61, 12, 4, 10, 10, 14, 32, 62, 52, 6, 5, 6, 8, 12, 8, 10, 35, 9, 23, 0, 2, 8, 13, 2, 2, 20, 21, 35, 31, 63, 3, 9, 3, 57, 55, 7, 10, 8, 0, 2, 2, 25, 64, 9, 7, 24, 2, 50, 6, 11, 28, 8, 7, 2, 35, 5, 8, 52, 19, 61, 4, 11, 0, 14, 32, 10, 23, 41, 6, 28, 7, 20, 25, 24, 50, 63, 32, 8, 10, 6, 7, 10, 26, 32, 5, 8, 14, 6, 2, 51, 59, 9, 5, 10, 10, 8, 47, 5, 7, 3, 1, 9, 25, 9, 58, 47, 11, 9, 25, 8, 17, 8, 11, 44, 10, 10, 46, 10, 10, 10, 63, 8, 1, 19, 12, 0, 1, 44, 7, 9, 9, 6, 43, 36, 63, 5, 14, 11, 7, 22, 1, 9, 3, 6, 36, 2, 55, 5, 12, 43, 56, 9, 8, 10, 5, 52, 29, 21, 6, 9, 3, 2, 8, 9, 5, 4, 2, 24, 21, 11, 6, 22, 3, 5, 10, 0, 22, 8, 17, 22, 25, 5, 51, 32, 5, 30, 61, 8, 36, 10, 27, 14, 9, 9, 3, 55, 22, 9, 9, 28, 10, 8, 8, 7, 44, 10, 11, 11, 6, 1, 5, 11, 9, 2, 1, 0, 30, 27, 19, 31, 61, 7, 52, 46, 51, 0, 61, 11, 17, 30, 61, 9, 9, 63, 0, 29, 20, 9, 21, 4, 29, 50, 1, 5, 11, 0, 17, 9, 0, 15, 8, 9, 15, 57, 48, 19, 18, 9, 21, 5, 8, 43, 8, 9, 31, 8, 35, 9, 19, 11, 10, 5, 12, 7, 16, 5, 0, 53, 9, 10, 61, 8, 5, 22, 10, 1, 10, 5, 18, 29, 10, 9, 45, 33, 9, 9, 6, 18, 8, 43, 4, 16, 44, 7, 5, 11, 7, 11, 10, 6, 16, 8, 9, 3, 38, 6, 15, 15, 0, 23, 12, 52, 21, 11, 5, 13, 20, 46, 8, 63, 4, 50, 44, 18, 10, 16, 10, 11, 31, 44, 12, 9, 4, 14, 5, 27, 10, 22, 8, 1, 52, 4, 0, 20, 58, 7, 14, 1, 10, 1, 50, 55, 1, 7, 10, 2, 55, 6, 4, 15, 6, 0, 18, 7, 44, 6, 49, 51, 64, 3, 7, 7, 4, 9, 15, 3, 5, 3, 0, 0, 51, 44, 21, 3, 2, 8, 19, 22, 57, 5, 6, 1, 12, 28, 15, 20, 10, 19, 31, 5, 10, 9, 39, 15, 20, 0, 8, 9, 9, 5, 49, 13, 9, 4, 6, 11, 0, 0, 8, 1, 10, 3, 10, 13, 45, 39, 7, 34, 20, 1, 6, 58, 6, 9, 8, 4, 23, 20, 49, 9, 34, 44, 16, 7, 51, 48, 27, 9, 10, 21, 10, 8, 7, 1, 59, 12, 3, 10, 10, 9, 2, 5, 3, 6, 5, 39, 3, 18, 9, 0, 20, 0, 55, 1, 8, 11, 24, 8, 8, 31, 9, 30, 9, 14, 14, 30, 7, 10, 8, 50, 12, 6, 0, 7, 55, 20, 10, 6, 4, 35, 10, 13, 8, 20, 7, 52, 64, 24, 0, 8, 10, 10, 9, 45, 10, 31, 8, 14, 10, 21, 52, 13, 46, 5, 6, 10, 37, 52, 28, 50, 26, 23, 25, 3, 26, 1, 8, 24, 6, 5, 50, 3, 9, 7, 2, 17, 9, 30, 11, 11, 6, 26, 5, 9, 19, 10, 8, 2, 45, 45, 21, 59, 33, 0, 19, 37, 28, 25, 8, 5, 18, 15, 58, 8, 4, 22, 9, 6, 11, 50, 44, 32, 27, 11, 50, 4, 6, 2, 1, 61, 22, 8, 6, 0, 8, 5, 0, 6, 39, 3, 61, 6, 23, 21, 23, 2, 45, 44, 0, 8, 20, 8, 6, 15, 5, 7, 25, 6, 35, 9, 43, 16, 10, 13, 52, 29, 52, 52, 0, 5, 12, 20, 20, 55, 7, 5, 7, 51, 5, 53, 30, 9, 15, 6, 33, 5, 31, 6, 30, 18, 10, 17, 13, 0, 5, 9, 6, 0, 18, 7, 6, 8, 51, 7, 10, 5, 6, 13, 19, 4, 6, 10, 5, 10, 2, 2, 5, 2, 32, 56, 34, 8, 10, 10, 3, 59, 15, 4, 10, 8, 3, 35, 5, 3, 5, 27, 4, 5, 47, 6, 3, 16, 25, 7, 4, 50, 63, 10, 56, 1, 2, 35, 21, 52, 44, 12, 6, 9, 45, 5, 6, 5, 52, 19, 15, 0, 18, 16, 8, 13, 45, 1, 9, 7, 9, 9, 50, 50, 20, 2, 2, 21, 2, 9, 4, 8, 13, 5, 6, 1, 3, 6, 9, 0, 14, 30, 1, 10, 3, 16, 0, 36, 5, 5, 0, 6, 15, 39, 0, 0, 7, 4, 25, 50, 50, 8, 15, 7, 0, 45, 0, 2, 33, 0, 7, 42, 5, 1, 0, 14, 9, 0, 26, 10, 15, 32, 24, 7, 0, 7, 2, 52, 12, 9, 8, 12, 14, 3, 6, 10, 9, 42, 45, 7, 51, 6, 50, 18, 1, 5, 5, 2, 31, 9, 14, 55, 5, 8, 10, 0, 17, 9, 0, 1, 6, 0, 42, 5, 8, 58, 1, 9, 45, 40, 59, 43, 2, 4, 64, 23, 5, 9, 41, 2, 46, 43, 12, 17, 60, 27, 43, 51, 3, 2, 12, 1, 6, 64, 0, 19, 20, 41, 3, 44, 7, 0, 10, 5, 10, 0, 14, 58, 10, 7, 23, 62, 16, 17, 17, 15, 8, 10, 9, 4, 8, 8, 43, 8, 10, 7, 14, 7, 6, 2, 55, 22, 27, 1, 5, 10, 9, 8, 30, 5, 9, 39, 2, 5, 28, 3, 0, 9, 8, 7, 6, 51, 15, 21, 10, 31, 7, 9, 10, 24, 31, 36, 50, 7, 2, 20, 9, 7, 9, 3, 45, 4, 45, 26, 45, 15, 41, 11, 5, 12, 2, 14, 3, 32, 0, 8, 5, 19, 11, 6, 3, 44, 21, 35, 6, 25, 2, 9, 14, 15, 5, 7, 9, 26, 2, 10, 49, 25, 4, 20, 5, 6, 41, 51, 39, 10, 3, 6, 10, 5, 7, 16, 8, 9, 52, 5, 12, 9, 16, 10, 8, 4, 0, 56, 9, 24, 10, 4, 11, 7, 9, 5, 4, 15, 35, 9, 45, 1, 22, 11, 12, 39, 32, 8, 6, 7, 44, 9, 6, 8, 2, 10, 7, 5, 14, 16, 2, 22, 58, 31, 0, 52, 12, 5, 55, 2, 15, 15, 18, 19, 26, 16, 2, 11, 50, 7, 5, 6, 9, 55, 22, 6, 6, 51, 0, 19, 3, 1, 1, 24, 5, 7, 7, 10, 1, 47, 14, 6, 4, 2, 7, 21, 0, 50, 5, 44, 31, 9, 9, 18, 0, 0, 13, 45, 14, 6, 7, 47, 5, 5, 13, 23, 25, 8, 4, 43, 31, 12, 7, 51, 0, 8, 12, 8, 53, 2, 11, 7, 2, 17, 6, 6, 1, 22, 3, 5, 0, 20, 9, 5, 7, 4, 13, 27, 61, 53, 4, 0, 9, 13, 14, 26, 9, 11, 6, 0, 14, 2, 6, 25, 16, 6, 14, 31, 5, 2, 9, 1, 1, 0, 44, 8, 4, 2, 4, 3, 20, 21, 15, 4, 9, 9, 19, 2, 3, 15, 8, 59, 19, 9, 5, 12, 50, 9, 1, 4, 10, 52, 9, 63, 0, 5, 56, 20, 14, 8, 59, 45, 27, 20, 7, 25, 35, 43, 1, 10, 45, 5, 3, 44, 10, 0, 3, 25, 7, 22, 30, 12, 5, 10, 6, 51, 52, 21, 9, 17, 63, 4, 12, 7, 46, 2, 52, 52, 14, 6, 25, 8, 60, 10, 20, 55, 1, 43, 16, 45, 7, 8, 11, 49, 33, 11, 5, 13, 28, 6, 16, 9, 61, 17, 9, 8, 6, 6, 45, 0, 0, 5, 35, 0, 1, 2, 8, 13, 10, 5, 3, 12, 44, 7, 21, 3, 12, 3, 4, 17, 0, 13, 2, 5, 13, 8, 7, 5, 23, 16, 7, 5, 25, 8, 7, 5, 22, 9, 3, 13, 16, 7, 38, 44, 6, 3, 20, 5, 6, 5, 50, 20, 5, 16, 14, 18, 24, 0, 1, 50, 8, 34, 15, 22, 7, 14, 16, 15, 4, 5, 9, 4, 4, 47, 5, 0, 0, 15, 41, 21, 8, 14, 11, 16, 22, 16, 6, 43, 2, 5, 3, 9, 19, 17, 21, 24, 29, 44, 10, 11, 7, 10, 47, 60, 56, 6, 1, 0, 7, 16, 8, 6, 10, 0, 45, 51, 3, 23, 45, 8, 64, 58, 61, 5, 57, 30, 45, 11, 25, 4, 4, 13, 30, 12, 2, 5, 27, 3, 20, 23, 10, 20, 32, 3, 8, 14, 43, 1, 26, 64, 15, 8, 36, 10, 5, 9, 4, 52, 3, 9, 5, 5, 10, 35, 4, 8, 18, 0, 28, 5, 5, 7, 3, 13, 10, 0, 5, 7, 2, 1, 2, 48, 8, 1, 11, 3, 10, 0, 15, 0, 12, 12, 63, 0, 1, 9, 9, 44, 14, 13, 8, 20, 5, 9, 9, 6, 2, 8, 11, 0, 10, 14, 32, 10, 6, 12, 49, 11, 11, 48, 9, 2, 10, 9, 16, 22, 22, 2, 16, 53, 16, 12, 57, 4, 3, 33, 8, 9, 8, 9, 9, 35, 26, 47, 14, 15, 14, 1, 10, 0, 12, 25, 13, 5, 12, 19, 25, 7, 55, 9, 2, 14, 35, 7, 59, 8, 3, 10, 23, 7, 5, 3, 1, 8, 26, 63, 9, 9, 19, 11, 36, 45, 1, 61, 0, 6, 0, 10, 47, 10, 3, 45, 23, 8, 9, 0, 5, 0, 36, 10, 9, 7, 6, 24, 0, 5, 35, 9, 6, 2, 27, 10, 8, 8, 9, 10, 7, 13, 3, 10, 20, 55, 2, 5, 58, 2, 31, 9, 52, 22, 8, 51, 57, 46, 9, 47, 10, 15, 15, 13, 2, 8, 21, 8, 12, 5, 9, 9, 22, 10, 0, 9, 11, 5, 64, 7, 22, 12, 22, 3, 8, 2, 9, 45, 55, 9, 4, 28, 7, 0, 9, 28, 13, 0, 5, 5, 6, 59, 52, 9, 3, 7, 43, 14, 7, 3, 0, 20, 62, 43, 9, 44, 46, 5, 9, 14, 7, 3, 4, 13, 17, 35, 6, 8, 7, 10, 47, 55, 7, 0, 3, 7, 10, 8, 3, 3, 10, 46, 11, 30, 5, 1, 5, 1, 9, 9, 61, 8, 7, 56, 47, 6, 8, 5, 12, 5, 47, 5, 39, 11, 43, 9, 0, 5, 10, 8, 15, 12, 1, 26, 6, 26, 3, 6, 7, 4, 9, 5, 11, 9, 5, 51, 0, 8, 44, 10, 9, 12, 3, 8, 12, 5, 0, 7, 13, 6, 10, 10, 11, 2, 9, 11, 9, 10, 6, 10, 14, 26, 61, 15, 8, 8, 4, 12, 9, 19, 0, 49, 18, 28, 22, 7, 5, 4, 41, 16, 9, 44, 7, 1, 5, 10, 9, 43, 7, 13, 15, 41, 8, 21, 1, 9, 58, 45, 3, 23, 8, 32, 9, 1, 13, 20, 10, 44, 14, 36, 7, 8, 8, 51, 5, 53, 64, 13, 3, 21, 9, 10, 55, 10, 0, 24, 32, 8, 13, 5, 6, 11, 11, 18, 14, 25, 5, 33, 48, 49, 6, 1, 39, 5, 43, 10, 1, 9, 17, 0, 7, 8, 8, 10, 9, 22, 8, 26, 6, 44, 24, 5, 41, 13, 19, 51, 23, 51, 6, 10, 21, 2, 31, 0, 9, 0, 8, 5, 3, 9, 6, 11, 3, 8, 12, 37, 1, 9, 9, 19, 19, 15, 64, 51, 14, 10, 3, 2, 21, 11, 8, 8, 6, 48, 51, 1, 9, 8, 39, 27, 8, 5, 64, 50, 6, 1, 3, 57, 22, 17, 39, 0, 14, 14, 2, 60, 5, 6, 8, 8, 1, 61, 9, 3, 45, 8, 9, 25, 5, 5, 6, 6, 19, 51, 9, 20, 7, 1, 0, 3, 3, 52, 8, 59, 55, 10, 6, 6, 7, 9, 35, 5, 39, 1, 3, 0, 14, 4, 21, 2, 57, 4, 6, 0, 9, 43, 15, 9, 8, 33, 1, 3, 5, 50, 11, 8, 13, 2, 3, 1, 6, 44, 45, 16, 22, 0, 13, 5, 10, 10, 4, 20, 43, 5, 39, 4, 8, 3, 3, 3, 7, 7, 55, 43, 0, 10, 1, 8, 50, 10, 4, 64, 11, 44, 24, 5, 3, 32, 5, 9, 3, 9, 5, 9, 5, 8, 10, 10, 2, 7, 27, 4, 21, 35, 14, 9, 44, 41, 45, 8, 7, 7, 7, 5, 10, 55, 23, 16, 27, 36, 27, 44, 56, 4, 0, 11, 2, 8, 16, 32, 0, 6, 0, 36, 19, 3, 25, 20, 45, 9, 17, 21, 7, 11, 51, 13, 50, 30, 51, 16, 51, 17, 2, 11, 5, 6, 10, 8, 5, 4, 45, 26, 11, 8, 35, 5, 20, 4, 39, 13, 27, 3, 7, 8, 13, 6, 3, 9, 19, 7, 52, 6, 2, 22, 4, 12, 10, 10, 4, 9, 13, 6, 11, 4, 10, 58, 10, 15, 2, 63, 10, 10, 7, 26, 17, 11, 5, 0, 2, 8, 63, 30, 0, 1, 45, 3, 4, 52, 56, 10, 9, 8, 61, 9, 4, 11, 10, 51, 7, 8, 0, 9, 3, 9, 17, 3, 6, 52, 3, 6, 9, 19, 23, 7, 28, 2, 10, 21, 7, 43, 41, 0, 0, 5, 0, 3, 16, 10, 23, 18, 1, 17, 7, 0, 11, 5, 1, 20, 7, 41, 8, 11, 10, 55, 9, 16, 7, 6, 25, 7, 4, 8, 1, 61, 19, 8, 8, 7, 10, 8, 0, 3, 6, 5, 43, 16, 0, 8, 7, 22, 18, 10, 11, 18, 8, 23, 52, 6, 6, 9, 12, 3, 9, 7, 20, 6, 58, 39, 6, 9, 10, 6, 32, 2, 29, 61, 9, 30, 15, 3, 5, 1, 11, 35, 10, 2, 15, 55, 19, 35, 25, 8, 2, 9, 10, 8, 1, 8, 8, 14, 6, 56, 2, 3, 12, 42, 6, 7, 10, 15, 2, 16, 50, 42, 21, 17, 8, 9, 1, 9, 29, 20, 23, 14, 2, 1, 1, 8, 5, 1, 10, 9, 1, 6, 10, 6, 10, 8, 9, 4, 9, 8, 60, 12, 1, 18, 10, 0, 5, 9, 6, 35, 9, 25, 2, 2, 39, 1, 42, 10, 2, 14, 8, 12, 5, 11, 2, 14, 8, 51, 33, 0, 8, 20, 1, 1, 1, 8, 23, 5, 2, 1, 9, 0, 53, 5, 8, 10, 36, 22, 30, 8, 18, 9, 58, 9, 44, 60, 14, 56, 9, 8, 13, 38, 8, 20, 7, 16, 13, 12, 59, 5, 19, 30, 10, 30, 7, 7, 10, 0, 4, 2, 11, 4, 19, 13, 9, 5, 41, 3, 2, 5, 11, 5, 6, 9, 11, 32, 36, 44, 12, 6, 11, 1, 4, 62, 11, 10, 13, 33, 6, 56, 27, 33, 4, 8, 5, 21, 39, 51, 10, 4, 2, 3, 8, 8, 34, 32, 3, 31, 30, 50, 7, 8, 9, 26, 4, 10, 8, 8, 10, 6, 15, 41, 10, 8, 2, 7, 9, 14, 21, 22, 28, 5, 19, 2, 3, 7, 9, 8, 7, 6, 8, 2, 43, 13, 43, 26, 0, 7, 0, 13, 8, 8, 52, 43, 50, 13, 8, 19, 7, 13, 11, 9, 9, 11, 5, 44, 4, 25, 6, 2, 43, 64, 22, 43, 4, 52, 3, 5, 9, 12, 15, 12, 12, 32, 36, 21, 7, 59, 5, 15, 7, 0, 8, 6, 9, 8, 6, 0, 5, 4, 0, 2, 8, 0, 8, 2, 22, 10, 8, 20, 1, 0, 17, 9, 5, 58, 10, 12, 10, 11, 34, 21, 2, 5, 35, 61, 10, 8, 5, 25, 6, 0, 7, 56, 35, 1, 2, 35, 10, 24, 6, 43, 3, 41, 3, 8, 11, 20, 5, 8, 8, 16, 51, 4, 3, 24, 10, 45, 10, 1, 9, 1, 10, 4, 0, 59, 55, 14, 8, 35, 8, 8, 1, 8, 0, 47, 50, 10, 8, 30, 7, 63, 6, 10, 2, 9, 8, 64, 5, 10, 5, 2, 1, 10, 63, 8, 2, 64, 11, 8, 8, 13, 0, 7, 2, 64, 32, 10, 8, 8, 10, 8, 15, 5, 11, 27, 32, 14, 6, 45, 5, 22, 51, 8, 35, 45, 0, 31, 51, 16, 10, 1, 3, 5, 21, 9, 3, 44, 9, 39, 8, 21, 2, 21, 9, 50, 7, 10, 9, 9, 4, 36, 6, 20, 16, 6, 44, 11, 12, 7, 9, 43, 12, 8, 28, 3, 46, 7, 13, 0, 5, 2, 10, 9, 5, 51, 21, 2, 6, 2, 23, 8, 0, 17, 25, 18, 24, 9, 11, 8, 7, 30, 10, 14, 8, 2, 8, 10, 17, 9, 31, 1, 10, 8, 0, 45, 46, 5, 41, 2, 8, 43, 61, 5, 17, 0, 52, 8, 26, 3, 6, 17, 39, 4, 5, 6, 43, 4, 21, 10, 3, 4, 27, 5, 9, 51, 24, 6, 58, 23, 15, 6, 7, 2, 55, 6, 2, 0, 8, 15, 8, 12, 11, 2, 2, 50, 29, 9, 16, 8, 9, 51, 6, 52, 26, 52, 20, 5, 52, 22, 9, 16, 10, 26, 9, 2, 59, 38, 9, 37, 6, 25, 5, 2, 11, 57, 2, 21, 0, 8, 0, 55, 21, 11, 1, 8, 2, 10, 25, 8, 61, 16, 14, 9, 10, 8, 7, 14, 10, 26, 43, 17, 21, 34, 5, 22, 8, 9, 2, 9, 13, 50, 5, 1, 14, 44, 29, 8, 52, 5, 10, 7, 32, 8, 33, 52, 5, 30, 18, 19, 19, 8, 32, 2, 7, 9, 22, 41, 6, 9, 5, 33, 9, 1, 9, 5, 21, 10, 10, 47, 9, 7, 9, 3, 8, 18, 12, 5, 9, 5, 9, 16, 36, 0, 14, 3, 8, 10, 13, 55, 3, 11, 45, 58, 51, 39, 26, 33, 17, 7, 3, 5, 62, 29, 7, 19, 0, 10, 0, 32, 3, 6, 10, 45, 32, 5, 9, 10, 6, 9, 14, 8, 9, 14, 13, 2, 9, 1, 28, 5, 8, 18, 3, 9, 55, 9, 14, 10, 8, 4, 32, 5, 16, 9, 19, 6, 0, 6, 33, 10, 7, 6, 34, 2, 36, 51, 51, 11, 44, 24, 3, 10, 8, 45, 7, 50, 8, 8, 3, 3, 18, 43, 15, 14, 3, 29, 46, 10, 30, 0, 6, 4, 5, 55, 7, 9, 24, 50, 1, 1, 2, 9, 39, 13, 12, 16, 20, 14, 7, 11, 24, 37, 6, 13, 8, 5, 7, 22, 20, 25, 8, 10, 11, 4, 52, 0, 9, 0, 35, 14, 9, 11, 7, 5, 32, 6, 10, 10, 55, 9, 10, 21, 1, 55, 8, 7, 8, 7, 1, 3, 32, 52, 44, 30, 12, 39, 7, 7, 10, 13, 7, 0, 8, 8, 10, 2, 1, 2, 9, 13, 32, 16, 10, 53, 2, 8, 6, 3, 12, 17, 2, 35, 3, 11, 29, 11, 0, 1, 20, 27, 37, 8, 30, 23, 8, 62, 55, 7, 44, 6, 19, 6, 2, 43, 16, 10, 22, 20, 27, 10, 8, 41, 16, 32, 6, 34, 8, 10, 42, 0, 10, 9, 14, 15, 6, 43, 39, 43, 1, 35, 17, 45, 9, 27, 7, 20, 11, 1, 16, 20, 10, 31, 6, 2, 10, 9, 6, 17, 2, 57, 43, 41, 15, 11, 10, 12, 12, 7, 6, 22, 9, 7, 7, 24, 5, 8, 22, 10, 14, 5, 5, 0, 6, 6, 11, 4, 8, 52, 19, 3, 27, 25, 2, 15, 7, 3, 8, 63, 8, 33, 51, 64, 6, 39, 0, 1, 11, 8, 3, 44, 5, 7, 63, 8, 9, 5, 21, 10, 52, 8, 1, 6, 10, 27, 9, 57, 4, 27, 7, 26, 10, 39, 2, 32, 57, 24, 5, 50, 8, 63, 20, 0, 10, 0, 18, 26, 5, 8, 24, 52, 10, 39, 10, 2, 7, 10, 55, 17, 1, 8, 9, 64, 9, 10, 1, 1, 0, 9, 63, 11, 55, 14, 8, 12, 6, 4, 61, 11, 43, 5, 6, 41, 7, 0, 7, 11, 50, 21, 8, 0, 22, 6, 7, 23, 14, 15, 12, 45, 6, 9, 16, 23, 7, 39, 10, 5, 9, 32, 14, 9, 8, 6, 23, 7, 44, 8, 45, 64, 4, 59, 2, 44, 5, 41, 4, 0, 11, 5, 47, 20, 10, 6, 37, 8, 15, 8, 9, 3, 50, 12, 15, 45, 43, 14, 43, 46, 10, 8, 16, 14, 10, 41, 39, 5, 46, 7, 10, 9, 41, 9, 8, 9, 6, 10, 5, 6, 1, 21, 45, 9, 29, 8, 14, 2, 8, 41, 2, 41, 2, 6, 10, 43, 3, 26, 2, 3, 22, 45, 6, 21, 9, 5, 55, 44, 28, 5, 2, 12, 7, 10, 24, 20, 10, 9, 44, 14, 1, 19, 8, 44, 8, 17, 20, 14, 0, 1, 21, 5, 9, 16, 9, 44, 8, 9, 39, 0, 13, 1, 11, 10, 7, 1, 8, 0, 10, 0, 5, 15, 25, 5, 9, 41, 6, 15, 17, 5, 7, 5, 56, 30, 2, 2, 6, 7, 8, 27, 3, 1, 12, 2, 20, 7, 15, 5, 2, 10, 53, 10, 10, 36, 18, 5, 6, 55, 0, 2, 3, 9, 51, 18, 33, 7, 11, 6, 49, 1, 3, 8, 9, 50, 26, 44, 5, 2, 20, 0, 24, 44, 35, 8, 13, 47, 0, 7, 1, 55, 0, 9, 3, 3, 11, 30, 10, 13, 15, 1, 26, 8, 9, 9, 14, 9, 19, 35, 6, 11, 10, 9, 11, 1, 9, 0, 3, 10, 9, 12, 0, 9, 7, 5, 7, 33, 20, 7, 23, 14, 15, 8, 54, 6, 50, 9, 2, 8, 1, 45, 17, 56, 2, 3, 62, 4, 56, 15, 12, 8, 30, 20, 7, 22, 45, 4, 9, 59, 14, 20, 2, 9, 18, 45, 5, 7, 17, 10, 51, 25, 61, 9, 32, 24, 25, 6, 2, 14, 45, 5, 20, 4, 23, 14, 21, 9, 8, 39, 8, 52, 19, 10, 4, 1, 11, 0, 13, 9, 8, 3, 52, 41, 0, 8, 2, 10, 15, 8, 10, 11, 2, 9, 0, 5, 14, 10, 28, 13, 9, 4, 39, 5, 9, 50, 60, 22, 10, 9, 8, 8, 0, 17, 16, 8, 19, 30, 6, 20, 17, 2, 61, 6, 8, 8, 7, 19, 7, 23, 21, 5, 16, 8, 9, 10, 11, 6, 6, 57, 28, 55, 5, 2, 64, 59, 17, 3, 44, 5, 2, 3, 45, 1, 4, 10, 9, 4, 28, 0, 20, 55, 6, 10, 6, 2, 16, 36, 7, 0, 2, 5, 8, 2, 18, 7, 22, 4, 38, 52, 4, 36, 24, 9, 50, 31, 16, 16, 5, 25, 22, 0, 1, 19, 7, 5, 3, 9, 11, 47, 33, 44, 19, 8, 43, 20, 14, 18, 10, 10, 41, 41, 9, 0, 8, 20, 44, 32, 19, 44, 16, 32, 47, 19, 35, 0, 31, 22, 5, 9, 10, 18, 14, 10, 10, 7, 9, 2, 12, 23, 6, 9, 49, 13, 10, 7, 6, 44, 17, 7, 1, 52, 16, 6, 7, 3, 3, 33, 43, 41, 21, 19, 17, 39, 2, 64, 22, 5, 3, 20, 33, 7, 6, 19, 1, 15, 23, 34, 8, 10, 63, 7, 1, 12, 0, 4, 20, 44, 15, 8, 7, 33, 5, 44, 10, 8, 7, 4, 5, 2, 47, 20, 14, 8, 5, 16, 24, 22, 20, 23, 7, 15, 9, 2, 4, 13, 5, 33, 5, 1, 44, 6, 8, 28, 7, 10, 9, 1, 3, 6, 10, 61, 0, 7, 0, 27, 15, 25, 1, 3, 27, 7, 1, 14, 15, 15, 16, 7, 6, 15, 9, 12, 19, 33, 4, 37, 11, 19, 12, 6, 10, 37, 10, 4, 27, 32, 7, 25, 8, 12, 7, 10, 4, 1, 2, 3, 9, 0, 3, 21, 43, 15, 55, 50, 10, 10, 6, 6, 9, 8, 14, 10, 41, 8, 9, 7, 17, 14, 10, 43, 2, 5, 5, 0, 21, 7, 14, 0, 3, 44, 2, 30, 15, 1, 29, 9, 10, 5, 18, 8, 8, 14, 44, 34, 55, 24, 2, 9, 16, 8, 25, 16, 44, 27, 9, 7, 8, 10, 10, 57, 10, 9, 13, 9, 22, 6, 14, 28, 18, 10, 2, 7, 4, 10, 59, 10, 33, 10, 55, 45, 5, 10, 9, 9, 9, 32, 45, 26, 8, 13, 10, 33, 15, 11, 62, 10, 9, 10, 10, 46, 33, 6, 11, 52, 8, 12, 9, 7, 16, 5, 1, 29, 24, 10, 8, 1, 23, 52, 2, 5, 60, 59, 7, 19, 63, 26, 11, 10, 5, 9, 1, 0, 0, 9, 1, 9, 15, 6, 10, 50, 10, 45, 10, 13, 22, 8, 9, 10, 9, 5, 50, 31, 5, 16, 16, 7, 31, 17, 6, 3, 10, 27, 8, 8, 7, 5, 29, 15, 25, 0, 27, 7, 55, 10, 52, 1, 27, 5, 8, 25, 37, 9, 0, 45, 12, 9, 4, 23, 25, 58, 41, 9, 62, 23, 8, 11, 35, 10, 59, 21, 5, 47, 21, 12, 0, 7, 10, 7, 23, 0, 31, 35, 11, 2, 52, 44, 3, 12, 5, 9, 45, 1, 10, 9, 10, 6, 2, 35, 15, 8, 2, 2, 7, 5, 7, 5, 10, 7, 4, 12, 13, 36, 5, 2, 30, 52, 26, 10, 4, 7, 13, 5, 1, 3, 11, 42, 45, 23, 1, 19, 9, 21, 9, 21, 4, 8, 7, 19, 1, 34, 50, 45, 46, 16, 60, 28, 19, 1, 21, 33, 35, 8, 7, 8, 64, 7, 19, 32, 6, 10, 10, 13, 16, 10, 4, 50, 52, 20, 0, 21, 1, 52, 3, 6, 5, 58, 50, 0, 27, 7, 1, 61, 10, 44, 8, 9, 14, 8, 0, 10, 44, 7, 9, 44, 0, 18, 22, 15, 12, 8, 8, 2, 5, 12, 2, 3, 33, 8, 3, 9, 6, 8, 22, 8, 44, 17, 6, 5, 2, 52, 44, 15, 3, 5, 14, 9, 8, 32, 5, 16, 11, 2, 9, 30, 14, 26, 39, 45, 6, 18, 8, 8, 50, 64, 8, 50, 17, 5, 13, 9, 9, 23, 14, 10, 9, 3, 20, 55, 0, 8, 12, 27, 5, 47, 10, 7, 0, 19, 1, 3, 7, 10, 25, 0, 7, 33, 28, 45, 10, 45, 15, 17, 2, 7, 5, 15, 7, 9, 8, 3, 3, 15, 8, 5, 26, 7, 6, 14, 22, 41, 6, 64, 24, 8, 1, 8, 9, 0, 57, 10, 31, 27, 43, 9, 10, 31, 11, 45, 0, 26, 10, 1, 23, 31, 2, 11, 8, 10, 25, 7, 21, 8, 7, 9, 3, 18, 45, 58, 36, 25, 7, 10, 11, 10, 43, 11, 20, 16, 7, 6, 20, 17, 29, 2, 9, 57, 12, 13, 3, 2, 31, 3, 10, 2, 8, 10, 35, 3, 44, 2, 5, 14, 4, 12, 31, 19, 29, 10, 8, 8, 8, 9, 5, 19, 7, 28, 4, 2, 7, 6, 64, 6, 50, 5, 1, 35, 51, 2, 10, 50, 24, 13, 44, 19, 4, 10, 1, 6, 3, 52, 0, 26, 9, 8, 3, 21, 31, 9, 0, 6, 45, 45, 5, 22, 8, 50, 8, 6, 16, 2, 8, 5, 0, 57, 4, 9, 7, 3, 1, 2, 9, 13, 10, 3, 8, 32, 7, 21, 9, 14, 3, 7, 21, 9, 1, 50, 16, 5, 34, 10, 5, 0, 8, 9, 20, 3, 33, 8, 39, 20, 10, 5, 3, 9, 30, 5, 23, 22, 0, 10, 6, 52, 11, 17, 63, 0, 56, 7, 45, 3, 7, 18, 0, 16, 10, 0, 15, 29, 10, 30, 64, 9, 62, 45, 10, 8, 51, 10, 11, 11, 58, 7, 2, 3, 12, 33, 13, 8, 44, 0, 7, 8, 30, 28, 2, 3, 17, 9, 23, 61, 0, 27, 2, 8, 2, 35, 10, 6, 0, 21, 50, 7, 60, 12, 8, 49, 21, 64, 50, 50, 57, 20, 8, 0, 12, 17, 16, 19, 17, 58, 16, 11, 6, 33, 26, 5, 5, 31, 7, 0, 8, 32, 10, 9, 12, 3, 9, 3, 63, 10, 9, 0, 41, 53, 6, 21, 7, 53, 8, 12, 10, 14, 18, 52, 59, 5, 58, 8, 10, 6, 16, 7, 51, 9, 7, 59, 22, 2, 30, 8, 58, 5, 23, 4, 17, 11, 8, 25, 1, 8, 3, 0, 5, 3, 43, 4, 35, 33, 10, 17, 5, 50, 16, 7, 43, 58, 5, 8, 33, 60, 27, 0, 2, 1, 3, 9, 23, 10, 10, 19, 9, 10, 2, 16, 31, 19, 8, 45, 14, 50, 52, 64, 8, 9, 0, 1, 53, 0, 33, 3, 19, 52, 6, 14, 27, 3, 7, 9, 22, 43, 9, 1, 9, 59, 7, 17, 50, 1, 7, 47, 53, 8, 3, 8, 2, 58, 0, 33, 20, 9, 9, 10, 9, 20, 19, 0, 63, 3, 52, 22, 32, 2, 27, 57, 63, 19, 12, 11, 50, 35, 0, 8, 48, 51, 19, 22, 12, 16, 63, 5, 1, 43, 1, 1, 5, 4, 8, 2, 3, 61, 8, 10, 5, 51, 4, 10, 21, 8, 59, 45, 8, 13, 7, 8, 8, 10, 9, 26, 2, 45, 10, 6, 10, 4, 7, 8, 7, 10, 33, 24, 8, 7, 9, 5, 14, 14, 0, 10, 63, 12, 30, 62, 9, 53, 5, 9, 6, 10, 14, 3, 19, 1, 43, 4, 32, 10, 10, 13, 8, 7, 16, 9, 25, 6, 17, 8, 7, 0, 9, 2, 11, 2, 38, 55, 47, 8, 19, 24, 2, 3, 55, 6, 15, 23, 7, 13, 18, 7, 58, 9, 64, 17, 5, 5, 24, 36, 49, 17, 6, 8, 6, 39, 15, 14, 27, 58, 8, 9, 0, 23, 1, 9, 6, 4, 20, 7, 43, 6, 10, 28, 6, 10, 13, 0, 13, 7, 9, 52, 9, 52, 59, 17, 9, 8, 0, 44, 1, 32, 5, 45, 9, 51, 6, 5, 44, 14, 31, 28, 27, 43, 24, 33, 4, 44, 11, 43, 5, 26, 5, 63, 8, 9, 0, 13, 45, 26, 0, 30, 12, 11, 2, 10, 8, 7, 51, 5, 3, 0, 8, 9, 36, 21, 26, 9, 17, 4, 32, 27, 21, 41, 14, 12, 5, 7, 44, 5, 7, 35, 7, 3, 13, 58, 24, 50, 56, 9, 44, 8, 8, 4, 45, 9, 20, 1, 10, 52, 64, 45, 0, 8, 7, 9, 0, 33, 8, 4, 41, 2, 8, 1, 64, 6, 34, 9, 10, 5, 7, 10, 10, 18, 7, 7, 8, 15, 18, 55, 44, 28, 9, 23, 8, 53, 47, 5, 4, 0, 27, 3, 2, 47, 12, 56, 45, 9, 8, 55, 15, 8, 39, 60, 6, 14, 31, 9, 3, 9, 10, 8, 8, 51, 0, 9, 57, 33, 1, 33, 12, 16, 50, 11, 13, 11, 22, 22, 58, 64, 13, 15, 59, 8, 48, 40, 8, 10, 64, 28, 5, 43, 17, 24, 16, 11, 12, 15, 10, 7, 35, 7, 3, 59, 7, 9, 2, 43, 59, 35, 12, 50, 26, 27, 14, 17, 7, 2, 10, 17, 4, 22, 0, 7, 0, 4, 9, 3, 11, 21, 3, 1, 25, 0, 1, 12, 5, 9, 45, 14, 6, 6, 44, 27, 19, 12, 2, 7, 6, 9, 11, 11, 64, 21, 27, 19, 15, 11, 3, 3, 15, 9, 16, 6, 1, 3, 9, 32, 46, 11, 36, 0, 3, 4, 10, 9, 44, 45, 18, 9, 5, 8, 17, 63, 7, 52, 8, 4, 10, 3, 21, 6, 23, 22, 8, 61, 5, 8, 0, 22, 2, 12, 10, 9, 32, 19, 10, 8, 8, 6, 51, 44, 9, 9, 9, 19, 8, 33, 9, 31, 9, 51, 3, 21, 44, 23, 27, 11, 19, 34, 64, 9, 10, 8, 2, 6, 10, 14, 8, 9, 18, 2, 8, 7, 0, 8, 8, 9, 13, 37, 12, 50, 7, 18, 0, 34, 19, 16, 45, 3, 58, 57, 6, 8, 5, 13, 9, 7, 33, 5, 9, 39, 14, 9, 28, 0, 50, 7, 0, 19, 2, 0, 57, 6, 16, 12, 5, 3, 3, 35, 43, 45, 9, 8, 10, 3, 57, 25, 5, 12, 22, 51, 20, 26, 52, 0, 9, 9, 64, 9, 21, 20, 10, 10, 5, 5, 10, 10, 20, 21, 7, 1, 9, 2, 45, 3, 7, 6, 57, 32, 13, 6, 8, 8, 22, 32, 10, 2, 3, 9, 0, 0, 10, 6, 19, 41, 8, 11, 14, 32, 8, 5, 17, 42, 0, 8, 9, 0, 18, 7, 34, 50, 3, 54, 17, 32, 6, 9, 10, 9, 11, 64, 14, 10, 52, 39, 12, 0, 3, 19, 8, 55, 5, 55, 21, 44, 10, 38, 9, 4, 8, 8, 12, 5, 9, 4, 10, 8, 10, 52, 17, 41, 5, 61, 22, 0, 50, 3, 3, 9, 52, 55, 0, 5, 10, 8, 6, 23, 52, 9, 8, 43, 2, 3, 2, 6, 8, 0, 0, 1, 63, 6, 2, 35, 4, 32, 4, 1, 5, 8, 7, 5, 9, 36, 7, 52, 17, 5, 21, 15, 7, 2, 52, 25, 18, 44, 3, 13, 6, 6, 5, 0, 8, 0, 6, 3, 10, 5, 17, 1, 55, 0, 59, 43, 7, 6, 6, 16, 8, 6, 10, 6, 7, 1, 10, 9, 10, 45, 1, 11, 9, 30, 8, 20, 20, 45, 22, 0, 10, 52, 14, 8, 2, 5, 36, 10, 11, 16, 10, 8, 3, 33, 35, 8, 25, 7, 16, 6, 5, 2, 26, 0, 2, 12, 3, 11, 55, 1, 9, 2, 8, 14, 52, 22, 45, 9, 21, 18, 20, 36, 0, 17, 39, 9, 16, 38, 8, 8, 5, 9, 16, 36, 17, 57, 6, 9, 3, 17, 5, 7, 3, 10, 58, 10, 45, 10, 7, 4, 11, 20, 9, 21, 44, 26, 6, 8, 7, 12, 6, 11, 5, 16, 15, 51, 9, 26, 58, 1, 19, 4, 11, 6, 2, 7, 7, 62, 5, 5, 3, 4, 50, 8, 50, 10, 11, 25, 14, 9, 10, 5, 8, 7, 16, 10, 44, 19, 0, 10, 10, 8, 10, 62, 9, 7, 26, 13, 5, 5, 5, 2, 15, 11, 8, 9, 55, 3, 36, 6, 50, 6, 3, 21, 18, 19, 2, 6, 37, 2, 45, 9, 8, 0, 57, 3, 50, 18, 52, 8, 17, 1, 8, 11, 45, 8, 3, 64, 15, 12, 10, 0, 15, 23, 20, 35, 21, 5, 32, 64, 7, 0, 44, 19, 58, 6, 64, 5, 32, 11, 0, 9, 50, 5, 55, 18, 10, 21, 43, 6, 29, 51, 8, 36, 16, 11, 10, 7, 64, 21, 7, 31, 10, 7, 5, 4, 0, 10, 2, 45, 9, 31, 2, 7, 2, 3, 28, 11, 24, 19, 7, 2, 4, 8, 11, 0, 10, 44, 6, 45, 16, 0, 45, 7, 29, 9, 8, 6, 23, 55, 3, 37, 15, 57, 3, 53, 9, 43, 10, 4, 6, 8, 3, 2, 0, 5, 5, 11, 21, 13, 20, 9, 2, 8, 0, 45, 14, 8, 32, 10, 15, 64, 25, 11, 26, 10, 5, 20, 55, 9, 4, 9, 0, 9, 11, 48, 47, 3, 8, 10, 23, 5, 9, 8, 20, 6, 35, 10, 10, 36, 17, 21, 10, 5, 10, 5, 51, 10, 12, 21, 8, 52, 3, 53, 8, 6, 8, 8, 3, 52, 25, 9, 9, 9, 10, 26, 63, 5, 5, 47, 39, 15, 42, 11, 27, 5, 8, 8, 3, 6, 2, 10, 1, 25, 3, 7, 12, 8, 9, 21, 24, 25, 32, 61, 23, 0, 27, 5, 20, 4, 8, 12, 10, 8, 45, 3, 7, 2, 7, 1, 16, 8, 1, 7, 21, 5, 3, 6, 38, 2, 45, 41, 4, 11, 2, 5, 5, 21, 14, 4, 15, 44, 5, 18, 7, 11, 60, 12, 14, 8, 7, 2, 3, 1, 5, 28, 11, 16, 32, 3, 8, 10, 9, 44, 5, 22, 24, 41, 16, 3, 16, 63, 6, 2, 51, 41, 28, 8, 52, 8, 53, 17, 60, 2, 57, 2, 0, 8, 57, 18, 1, 56, 13, 55, 59, 11, 5, 63, 47, 11, 9, 28, 7, 50, 16, 1, 22, 7, 20, 7, 10, 55, 23, 50, 5, 8, 39, 10, 13, 5, 13, 8, 8, 0, 10, 7, 18, 6, 4, 7, 2, 43, 14, 52, 7, 20, 9, 4, 0, 2, 12, 2, 7, 7, 50, 26, 5, 39, 4, 5, 31, 25, 8, 57, 13, 3, 21, 6, 26, 44, 6, 9, 60, 8, 2, 6, 0, 18, 4, 1, 9, 63, 3, 8, 50, 5, 52, 32, 11, 8, 44, 34, 11, 6, 5, 19, 6, 42, 9, 0, 19, 10, 7, 6, 30, 0, 10, 0, 23, 7, 64, 20, 5, 27, 11, 17, 1, 0, 6, 3, 0, 0, 32, 12, 1, 45, 6, 5, 19, 5, 8, 5, 21, 31, 27, 0, 11, 5, 52, 5, 8, 17, 11, 0, 17, 13, 48, 50, 63, 9, 47, 45, 0, 10, 9, 8, 8, 7, 15, 35, 6, 30, 52, 9, 48, 0, 5, 0, 1, 0, 45, 6, 11, 2, 38, 0, 1, 6, 10, 17, 5, 1, 5, 13, 0, 21, 5, 0, 24, 7, 7, 2, 6, 1, 59, 8, 21, 16, 18, 5, 2, 3, 7, 8, 10, 8, 12, 10, 9, 51, 52, 9, 4, 19, 8, 63, 10, 1, 5, 21, 2, 7, 10, 2, 44, 14, 44, 43, 12, 8, 5, 6, 20, 46, 63, 7, 8, 57, 10, 9, 39, 5, 1, 13, 48, 6, 0, 28, 35, 7, 40, 3, 6, 19, 51, 3, 5, 10, 6, 64, 19, 47, 6, 4, 7, 3, 8, 14, 47, 5, 9, 27, 9, 19, 21, 2, 9, 7, 1, 6, 29, 13, 0, 8, 5, 52, 6, 2, 9, 4, 40, 9, 24, 1, 42, 61, 4, 6, 0, 14, 6, 3, 50, 1, 10, 7, 5, 7, 7, 25, 30, 13, 9, 19, 33, 58, 19, 6, 6, 10, 13, 49, 1, 60, 14, 2, 9, 6, 0, 36, 1, 45, 64, 28, 23, 1, 9, 52, 16, 2, 6, 18, 2, 4, 9, 5, 10, 45, 6, 22, 25, 1, 7, 6, 28, 43, 3, 8, 1, 10, 9, 9, 2, 50, 8, 7, 6, 7, 2, 34, 21, 50, 2, 17, 6, 9, 8, 45, 2, 30, 6, 26, 2, 1, 7, 0, 2, 19, 9, 15, 20, 9, 9, 45, 1, 5, 24, 6, 19, 14, 22, 33, 45, 1, 3, 26, 7, 0, 38, 36, 43, 0, 7, 6, 5, 5, 1, 43, 4, 12, 55, 0, 2, 25, 19, 5, 10, 30, 6, 59, 63, 0, 6, 5, 6, 14, 8, 5, 12, 7, 23, 10, 2, 22, 4, 35, 6, 7, 5, 28, 44, 20, 28, 8, 9, 34, 6, 10, 9, 6, 23, 6, 34, 47, 16, 0, 11, 25, 51, 16, 8, 15, 5, 43, 2, 10, 19, 11, 8, 23, 8, 5, 6, 8, 6, 8, 8, 10, 9, 19, 43, 8, 61, 10, 8, 25, 21, 8, 8, 8, 11, 5, 16, 10, 63, 0, 50, 5, 21, 33, 6, 11, 3, 39, 55, 51, 5, 12, 5, 7, 14, 1, 20, 1, 0, 2, 8, 10, 6, 7, 20, 9, 10, 3, 43, 7, 31, 12, 3, 22, 13, 9, 5, 14, 35, 15, 20, 39, 19, 6, 2, 24, 13, 10, 43, 20, 35, 16, 52, 27, 43, 5, 9, 50, 28, 6, 11, 1, 55, 5, 16, 6, 16, 12, 15, 39, 9, 3, 9, 8, 6, 63, 21, 0, 28, 9, 58, 61, 2, 58, 45, 29, 23, 10, 64, 16, 5, 10, 9, 8, 13, 0, 20, 3, 5, 4, 6, 3, 17, 0, 42, 35, 16, 10, 13, 13, 0, 23, 10, 1, 9, 2, 4, 10, 9, 11, 3, 26, 10, 21, 8, 6, 14, 0, 2, 5, 23, 8, 39, 25, 5, 13, 63, 7, 7, 41, 2, 9, 37, 10, 51, 4, 25, 31, 8, 8, 4, 4, 24, 10, 1, 47, 13, 10, 20, 6, 0, 4, 4, 5, 2, 21, 3, 0, 8, 5, 3, 1, 7, 16, 2, 16, 10, 16, 14, 55, 10, 15, 44, 1, 6, 60, 45, 8, 1, 7, 45, 2, 0, 29, 12, 0, 6, 10, 9, 5, 17, 39, 8, 2, 35, 8, 7, 59, 43, 3, 9, 9, 8, 16, 31, 26, 13, 39, 3, 18, 21, 6, 20, 8, 7, 6, 6, 0, 19, 61, 10, 9, 45, 55, 0, 3, 38, 23, 1, 2, 9, 2, 36, 19, 10, 5, 9, 6, 55, 15, 20, 25, 0, 44, 62, 50, 21, 8, 10, 17, 52, 5, 2, 2, 19, 45, 64, 3, 5, 52, 9, 4, 35, 3, 3, 22, 1, 0, 59, 11, 5, 4, 14, 23, 50, 3, 8, 5, 45, 7, 42, 33, 1, 24, 1, 35, 26, 5, 2, 0, 23, 0, 17, 21, 55, 56, 58, 9, 25, 60, 8, 46, 5, 44, 2, 10, 12, 8, 7, 56, 51, 0, 7, 0, 50, 8, 6, 17, 22, 5, 8, 44, 7, 4, 11, 42, 12, 0, 22, 5, 5, 8, 3, 5, 21, 8, 45, 29, 10, 25, 6, 3, 10, 30, 22, 39, 10, 10, 19, 0, 5, 7, 2, 15, 19, 8, 5, 53, 8, 13, 17, 4, 10, 5, 3, 8, 9, 8, 62, 50, 2, 9, 50, 25, 8, 5, 13, 52, 19, 50, 51, 9, 9, 6, 0, 41, 2, 9, 18, 9, 10, 8, 30, 19, 19, 12, 9, 16, 2, 9, 36, 32, 53, 12, 7, 49, 50, 7, 11, 0, 6, 9, 6, 12, 7, 1, 11, 6, 52, 10, 9, 18, 32, 15, 14, 14, 8, 8, 10, 8, 10, 5, 14, 51, 44, 31, 16, 9, 44, 19, 14, 10, 0, 7, 2, 8, 6, 26, 50, 55, 6, 2, 5, 10, 26, 44, 16, 0, 52, 7, 5, 19, 3, 7, 0, 17, 0, 5, 10, 11, 29, 44, 22, 8, 24, 18, 47, 6, 6, 45, 4, 18, 8, 2, 8, 1, 14, 31, 29, 8, 39, 1, 5, 9, 5, 4, 4, 12, 0, 8, 27, 19, 21, 5, 28, 45, 17, 46, 38, 47, 27, 9, 5, 16, 4, 0, 23, 45, 57, 0, 14, 15, 14, 30, 9, 55, 24, 61, 17, 7, 7, 4, 4, 5, 8, 26, 9, 62, 2, 10, 6, 55, 8, 5, 9, 55, 39, 10, 35, 56, 8, 2, 9, 10, 2, 4, 4, 8, 6, 9, 27, 7, 0, 6, 9, 10, 9, 23, 10, 7, 43, 1, 10, 45, 7, 41, 39, 14, 16, 13, 17, 12, 44, 12, 9, 51, 46, 5, 11, 7, 3, 13, 6, 2, 28, 5, 7, 39, 8, 46, 0, 8, 9, 18, 60, 19, 8, 4, 7, 9, 47, 9, 7, 4, 0, 5, 1, 17, 11, 0, 9, 8, 9, 6, 6, 2, 9, 11, 9, 23, 18, 43, 11, 9, 15, 3, 8, 44, 45, 3, 49, 57, 9, 3, 55, 50, 3, 45, 10, 45, 60, 35, 10, 10, 27, 14, 12, 17, 36, 26, 26, 9, 25, 15, 9, 0, 0, 0, 6, 10, 9, 4, 60, 4, 0, 35, 9, 8, 5, 31, 44, 5, 4, 22, 8, 6, 1, 5, 10, 7, 9, 1, 5, 9, 31, 6, 37, 42, 5, 7, 20, 2, 20, 26, 5, 8, 26, 41, 1, 12, 10, 5, 58, 14, 10, 26, 35, 11, 3, 20, 8, 7, 8, 7, 6, 10, 3, 17, 10, 45, 56, 8, 8, 8, 8, 45, 5, 2, 37, 1, 9, 39, 14, 9, 62, 20, 43, 0, 5, 8, 8, 0, 5, 14, 7, 18, 10, 4, 2, 12, 55, 0, 39, 20, 26, 19, 10, 63, 51, 0, 10, 40, 61, 31, 9, 7, 9, 18, 7, 41, 5, 14, 25, 10, 8, 1, 7, 35, 8, 2, 43, 37, 4, 9, 8, 2, 3, 1, 27, 7, 3, 35, 10, 58, 5, 9, 6, 44, 44, 1, 10, 3, 9, 11, 38, 1, 51, 8, 15, 12, 3, 21, 10, 8, 10, 1, 6, 8, 9, 38, 35, 43, 16, 19, 0, 8, 35, 14, 15, 0, 51, 23, 45, 11, 2, 0, 26, 22, 7, 8, 16, 64, 57, 44, 6, 7, 1, 6, 10, 32, 6, 16, 5, 45, 9, 2, 9, 10, 9, 5, 24, 7, 17, 35, 5, 8, 31, 10, 7, 6, 43, 9, 0, 0, 10, 10, 6, 5, 43, 14, 7, 64, 17, 1, 20, 50, 51, 5, 21, 21, 0, 56, 52, 43, 7, 17, 2, 9, 4, 44, 32, 8, 51, 55, 30, 8, 16]\n",
      "12916\n"
     ]
    }
   ],
   "source": [
    "# you may print out some infomation about train data set \n",
    "print(x_train[0])\n",
    "print(y_train)\n",
    "print(len(y_train))"
   ]
  },
  {
   "cell_type": "markdown",
   "metadata": {},
   "source": [
    "# Decide a few parameters for trainning\n",
    "\n",
    "such as batch size, epochs, image size in rows and colomns, etc."
   ]
  },
  {
   "cell_type": "code",
   "execution_count": 7,
   "metadata": {},
   "outputs": [],
   "source": [
    "# you decide those parameters below\n",
    "batch_size = 128\n",
    "#num_classes = len(np.unique(y))\n",
    "num_classes = len(ys)\n",
    "epochs = 40\n",
    "\n",
    "## input image dimensions\n",
    "img_rows, img_cols = x_train[0].shape\n",
    "\n",
    "label_type_num = len(ys)"
   ]
  },
  {
   "cell_type": "code",
   "execution_count": 8,
   "metadata": {},
   "outputs": [
    {
     "data": {
      "text/plain": [
       "20"
      ]
     },
     "metadata": {},
     "output_type": "display_data"
    },
    {
     "data": {
      "text/plain": [
       "20"
      ]
     },
     "metadata": {},
     "output_type": "display_data"
    }
   ],
   "source": [
    "#Extend the data chennels to 4 dimemsions\n",
    "display(img_rows, img_cols)"
   ]
  },
  {
   "cell_type": "code",
   "execution_count": 9,
   "metadata": {},
   "outputs": [],
   "source": [
    "def extend_channel(data):\n",
    "    data = np.array(data)\n",
    "    if K.image_data_format() == 'channels_first':\n",
    "        data = data.reshape(data.shape[0], 1, img_rows, img_cols)\n",
    "    else:\n",
    "        data = data.reshape(data.shape[0], img_rows, img_cols, 1)\n",
    "        \n",
    "    return data\n",
    "\n",
    "x_train = extend_channel(x_train)\n",
    "x_test = extend_channel(x_test)\n",
    "\n",
    "input_shape = x_train.shape[1:]"
   ]
  },
  {
   "cell_type": "markdown",
   "metadata": {},
   "source": [
    "# Data normalization"
   ]
  },
  {
   "cell_type": "code",
   "execution_count": 10,
   "metadata": {},
   "outputs": [],
   "source": [
    "x_train = x_train.astype('float32')\n",
    "x_test = x_test.astype('float32')\n",
    "x_train /= 255\n",
    "x_test /= 255\n",
    "\n",
    "#TODO\n",
    "# y_train and y_test need to tranform to numbers\n",
    "#keras.utils.to_categorical(y, num_classes=None, dtype='float32')\n",
    "from keras.utils import to_categorical\n",
    "\n",
    "y_train = to_categorical(y_train, num_classes=num_classes, dtype='float32')\n",
    "y_test = to_categorical(np.array(y_test), num_classes=num_classes, dtype='float32')"
   ]
  },
  {
   "cell_type": "code",
   "execution_count": 11,
   "metadata": {},
   "outputs": [
    {
     "data": {
      "text/plain": [
       "(12916, 20, 20, 1)"
      ]
     },
     "metadata": {},
     "output_type": "display_data"
    },
    {
     "data": {
      "text/plain": [
       "(12916, 65)"
      ]
     },
     "metadata": {},
     "output_type": "display_data"
    },
    {
     "data": {
      "text/plain": [
       "(20, 20, 1)"
      ]
     },
     "metadata": {},
     "output_type": "display_data"
    },
    {
     "data": {
      "text/plain": [
       "(3229, 20, 20, 1)"
      ]
     },
     "metadata": {},
     "output_type": "display_data"
    },
    {
     "data": {
      "text/plain": [
       "(3229, 65)"
      ]
     },
     "metadata": {},
     "output_type": "display_data"
    }
   ],
   "source": [
    "input_shape = x_train.shape[1:]\n",
    "display(x_train.shape)\n",
    "display(y_train.shape)\n",
    "display(input_shape)\n",
    "display(x_test.shape)\n",
    "display(y_test.shape)"
   ]
  },
  {
   "cell_type": "markdown",
   "metadata": {},
   "source": [
    "# Create a CNN model for character recognition\n",
    "\n",
    "This is an important part of this project. You have to create a cnn model using tensorflow and keras to train the data.\n"
   ]
  },
  {
   "cell_type": "code",
   "execution_count": 12,
   "metadata": {},
   "outputs": [
    {
     "name": "stderr",
     "output_type": "stream",
     "text": [
      "2023-05-07 14:53:43.803414: I tensorflow/core/platform/cpu_feature_guard.cc:193] This TensorFlow binary is optimized with oneAPI Deep Neural Network Library (oneDNN) to use the following CPU instructions in performance-critical operations:  SSE4.1 SSE4.2 AVX AVX2 FMA\n",
      "To enable them in other operations, rebuild TensorFlow with the appropriate compiler flags.\n"
     ]
    }
   ],
   "source": [
    "#You can refer to the LeNet on the project 4\n",
    "# or use the same sample model in carplate_recognition.ipynb\n",
    "import tensorflow as tf\n",
    "\n",
    "model = Sequential()\n",
    "model.call = tf.function(model.call)\n",
    "model.add(Conv2D(32, kernel_size=(3, 3),\n",
    "                 activation='relu',\n",
    "                 input_shape=input_shape))\n",
    "model.add(Conv2D(64, (3, 3), activation='relu'))\n",
    "model.add(MaxPooling2D(pool_size=(2, 2)))\n",
    "model.add(Dropout(0.25))\n",
    "model.add(Flatten())\n",
    "model.add(Dense(128, activation='relu'))\n",
    "model.add(Dropout(0.5))\n",
    "model.add(Dense(num_classes, activation='softmax'))"
   ]
  },
  {
   "cell_type": "markdown",
   "metadata": {},
   "source": [
    "# Compile the model"
   ]
  },
  {
   "cell_type": "code",
   "execution_count": 13,
   "metadata": {},
   "outputs": [
    {
     "name": "stdout",
     "output_type": "stream",
     "text": [
      "Model: \"sequential\"\n",
      "_________________________________________________________________\n",
      " Layer (type)                Output Shape              Param #   \n",
      "=================================================================\n",
      " conv2d (Conv2D)             (None, 18, 18, 32)        320       \n",
      "                                                                 \n",
      " conv2d_1 (Conv2D)           (None, 16, 16, 64)        18496     \n",
      "                                                                 \n",
      " max_pooling2d (MaxPooling2D  (None, 8, 8, 64)         0         \n",
      " )                                                               \n",
      "                                                                 \n",
      " dropout (Dropout)           (None, 8, 8, 64)          0         \n",
      "                                                                 \n",
      " flatten (Flatten)           (None, 4096)              0         \n",
      "                                                                 \n",
      " dense (Dense)               (None, 128)               524416    \n",
      "                                                                 \n",
      " dropout_1 (Dropout)         (None, 128)               0         \n",
      "                                                                 \n",
      " dense_1 (Dense)             (None, 65)                8385      \n",
      "                                                                 \n",
      "=================================================================\n",
      "Total params: 551,617\n",
      "Trainable params: 551,617\n",
      "Non-trainable params: 0\n",
      "_________________________________________________________________\n"
     ]
    }
   ],
   "source": [
    "# tenslrflow 1.x\n",
    "# modelcompile(loss,optimizer,metrics)\n",
    "model.compile(loss=keras.losses.categorical_crossentropy,\n",
    "              optimizer=tf.keras.optimizers.Adam(),\n",
    "              metrics=['accuracy'])\n",
    "model.summary()"
   ]
  },
  {
   "cell_type": "markdown",
   "metadata": {},
   "source": [
    "# Train your model\n"
   ]
  },
  {
   "cell_type": "code",
   "execution_count": 14,
   "metadata": {},
   "outputs": [
    {
     "name": "stdout",
     "output_type": "stream",
     "text": [
      "Epoch 1/40\n",
      "81/81 [==============================] - 7s 65ms/step - loss: 1.9733 - accuracy: 0.5402 - val_loss: 0.5820 - val_accuracy: 0.8680\n",
      "Epoch 2/40\n",
      "81/81 [==============================] - 5s 67ms/step - loss: 0.6073 - accuracy: 0.8538 - val_loss: 0.2646 - val_accuracy: 0.9485\n",
      "Epoch 3/40\n",
      "81/81 [==============================] - 5s 61ms/step - loss: 0.3786 - accuracy: 0.9021 - val_loss: 0.1870 - val_accuracy: 0.9617\n",
      "Epoch 4/40\n",
      "81/81 [==============================] - 5s 61ms/step - loss: 0.2839 - accuracy: 0.9279 - val_loss: 0.1518 - val_accuracy: 0.9675\n",
      "Epoch 5/40\n",
      "81/81 [==============================] - 5s 62ms/step - loss: 0.2242 - accuracy: 0.9416 - val_loss: 0.1304 - val_accuracy: 0.9725\n",
      "Epoch 6/40\n",
      "81/81 [==============================] - 5s 62ms/step - loss: 0.1905 - accuracy: 0.9494 - val_loss: 0.1253 - val_accuracy: 0.9721\n",
      "Epoch 7/40\n",
      "81/81 [==============================] - 5s 63ms/step - loss: 0.1654 - accuracy: 0.9542 - val_loss: 0.1205 - val_accuracy: 0.9733\n",
      "Epoch 8/40\n",
      "81/81 [==============================] - 5s 63ms/step - loss: 0.1414 - accuracy: 0.9607 - val_loss: 0.1142 - val_accuracy: 0.9756\n",
      "Epoch 9/40\n",
      "81/81 [==============================] - 5s 62ms/step - loss: 0.1376 - accuracy: 0.9608 - val_loss: 0.1150 - val_accuracy: 0.9760\n",
      "Epoch 10/40\n",
      "81/81 [==============================] - 5s 63ms/step - loss: 0.1245 - accuracy: 0.9647 - val_loss: 0.1179 - val_accuracy: 0.9756\n",
      "Epoch 11/40\n",
      "81/81 [==============================] - 5s 63ms/step - loss: 0.1093 - accuracy: 0.9699 - val_loss: 0.1070 - val_accuracy: 0.9807\n",
      "Epoch 12/40\n",
      "81/81 [==============================] - 5s 64ms/step - loss: 0.1046 - accuracy: 0.9688 - val_loss: 0.1100 - val_accuracy: 0.9776\n",
      "Epoch 13/40\n",
      "81/81 [==============================] - 5s 66ms/step - loss: 0.0973 - accuracy: 0.9717 - val_loss: 0.1182 - val_accuracy: 0.9756\n",
      "Epoch 14/40\n",
      "81/81 [==============================] - 6s 70ms/step - loss: 0.0959 - accuracy: 0.9729 - val_loss: 0.1172 - val_accuracy: 0.9779\n",
      "Epoch 15/40\n",
      "81/81 [==============================] - 6s 73ms/step - loss: 0.0834 - accuracy: 0.9755 - val_loss: 0.1097 - val_accuracy: 0.9799\n",
      "Epoch 16/40\n",
      "81/81 [==============================] - 6s 73ms/step - loss: 0.0889 - accuracy: 0.9743 - val_loss: 0.1137 - val_accuracy: 0.9791\n",
      "Epoch 17/40\n",
      "81/81 [==============================] - 6s 74ms/step - loss: 0.0755 - accuracy: 0.9791 - val_loss: 0.1096 - val_accuracy: 0.9803\n",
      "Epoch 18/40\n",
      "81/81 [==============================] - 6s 71ms/step - loss: 0.0812 - accuracy: 0.9771 - val_loss: 0.1060 - val_accuracy: 0.9807\n",
      "Epoch 19/40\n",
      "81/81 [==============================] - 7s 83ms/step - loss: 0.0695 - accuracy: 0.9803 - val_loss: 0.1226 - val_accuracy: 0.9772\n",
      "Epoch 20/40\n",
      "81/81 [==============================] - 6s 71ms/step - loss: 0.0668 - accuracy: 0.9806 - val_loss: 0.1071 - val_accuracy: 0.9807\n",
      "Epoch 21/40\n",
      "81/81 [==============================] - 6s 70ms/step - loss: 0.0694 - accuracy: 0.9803 - val_loss: 0.1114 - val_accuracy: 0.9803\n",
      "Epoch 22/40\n",
      "81/81 [==============================] - 6s 72ms/step - loss: 0.0648 - accuracy: 0.9807 - val_loss: 0.1066 - val_accuracy: 0.9826\n",
      "Epoch 23/40\n",
      "81/81 [==============================] - 6s 68ms/step - loss: 0.0617 - accuracy: 0.9816 - val_loss: 0.1151 - val_accuracy: 0.9807\n",
      "Epoch 24/40\n",
      "81/81 [==============================] - 6s 69ms/step - loss: 0.0583 - accuracy: 0.9822 - val_loss: 0.1136 - val_accuracy: 0.9795\n",
      "Epoch 25/40\n",
      "81/81 [==============================] - 5s 68ms/step - loss: 0.0570 - accuracy: 0.9835 - val_loss: 0.1040 - val_accuracy: 0.9799\n",
      "Epoch 26/40\n",
      "81/81 [==============================] - 5s 65ms/step - loss: 0.0546 - accuracy: 0.9842 - val_loss: 0.1051 - val_accuracy: 0.9826\n",
      "Epoch 27/40\n",
      "81/81 [==============================] - 5s 67ms/step - loss: 0.0560 - accuracy: 0.9831 - val_loss: 0.1106 - val_accuracy: 0.9818\n",
      "Epoch 28/40\n",
      "81/81 [==============================] - 5s 65ms/step - loss: 0.0567 - accuracy: 0.9842 - val_loss: 0.1092 - val_accuracy: 0.9799\n",
      "Epoch 29/40\n",
      "81/81 [==============================] - 5s 66ms/step - loss: 0.0549 - accuracy: 0.9834 - val_loss: 0.1012 - val_accuracy: 0.9826\n",
      "Epoch 30/40\n",
      "81/81 [==============================] - 5s 66ms/step - loss: 0.0565 - accuracy: 0.9833 - val_loss: 0.1020 - val_accuracy: 0.9807\n",
      "Epoch 31/40\n",
      "81/81 [==============================] - 6s 68ms/step - loss: 0.0549 - accuracy: 0.9825 - val_loss: 0.1049 - val_accuracy: 0.9810\n",
      "Epoch 32/40\n",
      "81/81 [==============================] - 7s 81ms/step - loss: 0.0527 - accuracy: 0.9854 - val_loss: 0.1123 - val_accuracy: 0.9810\n",
      "Epoch 33/40\n",
      "81/81 [==============================] - 5s 67ms/step - loss: 0.0533 - accuracy: 0.9844 - val_loss: 0.1139 - val_accuracy: 0.9822\n",
      "Epoch 34/40\n",
      "81/81 [==============================] - 6s 69ms/step - loss: 0.0554 - accuracy: 0.9843 - val_loss: 0.1167 - val_accuracy: 0.9810\n",
      "Epoch 35/40\n",
      "81/81 [==============================] - 5s 67ms/step - loss: 0.0458 - accuracy: 0.9868 - val_loss: 0.1212 - val_accuracy: 0.9810\n",
      "Epoch 36/40\n",
      "81/81 [==============================] - 6s 70ms/step - loss: 0.0487 - accuracy: 0.9858 - val_loss: 0.1085 - val_accuracy: 0.9814\n",
      "Epoch 37/40\n",
      "81/81 [==============================] - 5s 67ms/step - loss: 0.0467 - accuracy: 0.9864 - val_loss: 0.1120 - val_accuracy: 0.9830\n",
      "Epoch 38/40\n",
      "81/81 [==============================] - 6s 73ms/step - loss: 0.0448 - accuracy: 0.9867 - val_loss: 0.0913 - val_accuracy: 0.9845\n",
      "Epoch 39/40\n",
      "81/81 [==============================] - 6s 73ms/step - loss: 0.0457 - accuracy: 0.9863 - val_loss: 0.1013 - val_accuracy: 0.9834\n",
      "Epoch 40/40\n",
      "81/81 [==============================] - 6s 70ms/step - loss: 0.0477 - accuracy: 0.9870 - val_loss: 0.1013 - val_accuracy: 0.9830\n",
      "101/101 [==============================] - 1s 5ms/step - loss: 0.1353 - accuracy: 0.9762\n",
      "Loss:  0.1353481262922287\n",
      "Accuracy:  0.9761536121368408\n"
     ]
    }
   ],
   "source": [
    "#model.fit(x = , y = ,\n",
    "#          batch_size=,\n",
    "#          epochs=,\n",
    "#          verbose=,\n",
    "#          validation_data=)\n",
    "\n",
    "epochs = 40\n",
    "batch_size = 128\n",
    "\n",
    "# check whether the model has already been saved,\n",
    "# if so, we can directly use it without training again.\n",
    "is_available = False\n",
    "if(is_available):\n",
    "    model.load_weights(\"char_cnn.h5\")\n",
    "\n",
    "cnn_model = model.fit(x=x_train, y=y_train, batch_size=batch_size, epochs=epochs,validation_freq=1, validation_split=0.2)\n",
    "score = model.evaluate(x_test, y_test)\n",
    "print(\"Loss: \",score[0])\n",
    "print(\"Accuracy: \", score[1])"
   ]
  },
  {
   "cell_type": "markdown",
   "metadata": {},
   "source": [
    "# Visualize training results"
   ]
  },
  {
   "cell_type": "code",
   "execution_count": 15,
   "metadata": {},
   "outputs": [
    {
     "name": "stdout",
     "output_type": "stream",
     "text": [
      "{'loss': [1.9732568264007568, 0.607297956943512, 0.3786304295063019, 0.28387778997421265, 0.2242380827665329, 0.19048427045345306, 0.16539306938648224, 0.1413518488407135, 0.13757586479187012, 0.12449989467859268, 0.1092832013964653, 0.10461284220218658, 0.09729495644569397, 0.0958697497844696, 0.08340281248092651, 0.08891380578279495, 0.07554163038730621, 0.0812099426984787, 0.06954433768987656, 0.06679388135671616, 0.0694083496928215, 0.0647829920053482, 0.06171949952840805, 0.058281462639570236, 0.05697650834918022, 0.05458655580878258, 0.05596279352903366, 0.05672587454319, 0.05493513122200966, 0.056454382836818695, 0.05485060438513756, 0.05270346626639366, 0.05331199988722801, 0.05543356388807297, 0.0457683764398098, 0.048699941486120224, 0.046679574996232986, 0.04483713582158089, 0.04566746950149536, 0.04767562076449394], 'accuracy': [0.5401664972305298, 0.8537552952766418, 0.9020518660545349, 0.9278939366340637, 0.9416376352310181, 0.9493805766105652, 0.9542198777198792, 0.9607046246528625, 0.9608014225959778, 0.964672863483429, 0.9698993563652039, 0.9688346982002258, 0.9717382788658142, 0.9728997349739075, 0.9755129814147949, 0.9742547273635864, 0.9790940880775452, 0.9770615696907043, 0.9802555441856384, 0.9806426763534546, 0.9802555441856384, 0.9807394742965698, 0.9816105365753174, 0.982191264629364, 0.983546257019043, 0.9842237830162048, 0.9830623269081116, 0.9842237830162048, 0.9834494590759277, 0.983255922794342, 0.9824815988540649, 0.9853852391242981, 0.9844173192977905, 0.9843205809593201, 0.9868370294570923, 0.9857723712921143, 0.9863530993461609, 0.986740231513977, 0.9862563014030457, 0.987030565738678], 'val_loss': [0.5819995999336243, 0.26456740498542786, 0.18697801232337952, 0.15177419781684875, 0.13037841022014618, 0.1253083348274231, 0.12047189474105835, 0.11419504135847092, 0.11501824855804443, 0.117910236120224, 0.10700496286153793, 0.11004626750946045, 0.118241086602211, 0.11716533452272415, 0.10970691591501236, 0.11373469978570938, 0.10959362238645554, 0.10600631684064865, 0.12262410670518875, 0.10710799694061279, 0.11144355684518814, 0.10659860819578171, 0.11505318433046341, 0.11358519643545151, 0.10404361039400101, 0.10511904954910278, 0.11055173724889755, 0.10915510356426239, 0.10124662518501282, 0.10200982540845871, 0.10491124540567398, 0.11227893084287643, 0.11387311667203903, 0.11665695905685425, 0.1212308332324028, 0.10854269564151764, 0.1120344027876854, 0.0913410410284996, 0.10132875293493271, 0.10134503990411758], 'val_accuracy': [0.8680340647697449, 0.9485294222831726, 0.9616873264312744, 0.9674922823905945, 0.9725232124328613, 0.9721361994743347, 0.9732972383499146, 0.9756191968917847, 0.9760062098503113, 0.9756191968917847, 0.9806501269340515, 0.977554202079773, 0.9756191968917847, 0.9779411554336548, 0.9798761606216431, 0.9791021943092346, 0.9802631735801697, 0.9806501269340515, 0.9771671891212463, 0.9806501269340515, 0.9802631735801697, 0.9825851321220398, 0.9806501269340515, 0.9794891476631165, 0.9798761606216431, 0.9825851321220398, 0.9818111658096313, 0.9798761606216431, 0.9825851321220398, 0.9806501269340515, 0.9810371398925781, 0.9810371398925781, 0.9821981191635132, 0.9810371398925781, 0.9810371398925781, 0.9814241528511047, 0.9829721450805664, 0.9845201373100281, 0.983359158039093, 0.9829721450805664]}\n"
     ]
    }
   ],
   "source": [
    "print(cnn_model.history)\n"
   ]
  },
  {
   "cell_type": "code",
   "execution_count": 16,
   "metadata": {},
   "outputs": [],
   "source": [
    "acc = cnn_model.history['accuracy']\n",
    "val_acc = cnn_model.history['val_accuracy']\n",
    "loss = cnn_model.history['loss']\n",
    "val_loss = cnn_model.history['val_loss']\n",
    "epochs_range = range(epochs)"
   ]
  },
  {
   "cell_type": "code",
   "execution_count": 17,
   "metadata": {},
   "outputs": [
    {
     "data": {
      "image/png": "[encoded data removed]",
      "text/plain": [
       "<Figure size 800x800 with 2 Axes>"
      ]
     },
     "metadata": {},
     "output_type": "display_data"
    }
   ],
   "source": [
    "plt.figure(figsize=(8, 8))\n",
    "plt.subplot(1, 2, 1)\n",
    "plt.plot(epochs_range, acc, label='Training Accuracy')\n",
    "plt.plot(epochs_range, val_acc, label='Validation Accuracy')\n",
    "plt.legend(loc='lower right')\n",
    "plt.title('Training and Validation Accuracy')\n",
    "\n",
    "plt.subplot(1, 2, 2)\n",
    "plt.plot(epochs_range, loss, label='Training Loss')\n",
    "plt.plot(epochs_range, val_loss, label='Validation Loss')\n",
    "plt.legend(loc='upper right')\n",
    "plt.title('Training and Validation Loss')\n",
    "plt.show()"
   ]
  },
  {
   "cell_type": "markdown",
   "metadata": {},
   "source": [
    "# Model Evaluation \n",
    "\n",
    "Evaluate your model with test dataset.\n",
    "\n",
    "make sure your model accuracy should be more than 97 percent. Otherwise, you have to go back to fine tune your model with whatever methods you have learned to improve its accuracy. You have to handle over-fitting or under-fitting problem you may encounter."
   ]
  },
  {
   "cell_type": "code",
   "execution_count": 18,
   "metadata": {
    "scrolled": false
   },
   "outputs": [
    {
     "name": "stdout",
     "output_type": "stream",
     "text": [
      "101/101 [==============================] - 0s 4ms/step - loss: 0.1353 - accuracy: 0.9762\n",
      "Test loss: 0.1353481262922287\n",
      "Test accuracy: 0.9761536121368408\n"
     ]
    }
   ],
   "source": [
    "loss, accuracy = model.evaluate(x_test, y_test)\n",
    "print('Test loss:', loss)\n",
    "print('Test accuracy:', accuracy)"
   ]
  },
  {
   "cell_type": "markdown",
   "metadata": {},
   "source": [
    "# Save your model weights\n",
    "\n",
    "You should save your model for car plate recognition purpose later.\n"
   ]
  },
  {
   "cell_type": "code",
   "execution_count": 19,
   "metadata": {},
   "outputs": [],
   "source": [
    "# when you finish training, you should save your model in a file\n",
    "# for carplate_recognition.ipynb\n",
    "# since it will use this model to recognize car plates \n",
    "model.save_weights('char_cnn.h5')"
   ]
  }
 ],
 "metadata": {
  "kernelspec": {
   "display_name": "Python 3",
   "language": "python",
   "name": "python3"
  },
  "language_info": {
   "codemirror_mode": {
    "name": "ipython",
    "version": 3
   },
   "file_extension": ".py",
   "mimetype": "text/x-python",
   "name": "python",
   "nbconvert_exporter": "python",
   "pygments_lexer": "ipython3",
   "version": "3.10.10"
  }
 },
 "nbformat": 4,
 "nbformat_minor": 2
}
